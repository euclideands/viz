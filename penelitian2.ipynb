{
 "cells": [
  {
   "cell_type": "markdown",
   "metadata": {},
   "source": [
    "# **Import Library**"
   ]
  },
  {
   "cell_type": "code",
   "execution_count": 115,
   "metadata": {},
   "outputs": [],
   "source": [
    "# data wrangling\n",
    "import numpy as np\n",
    "import pandas as pd\n",
    "from datetime import datetime, timedelta\n",
    "# data visualization\n",
    "import matplotlib.pyplot as plt\n",
    "import seaborn as sn\n",
    "import plotly.express as px"
   ]
  },
  {
   "cell_type": "markdown",
   "metadata": {},
   "source": [
    "# **Load Dataset**"
   ]
  },
  {
   "cell_type": "code",
   "execution_count": 116,
   "metadata": {},
   "outputs": [
    {
     "data": {
      "text/html": [
       "<div>\n",
       "<style scoped>\n",
       "    .dataframe tbody tr th:only-of-type {\n",
       "        vertical-align: middle;\n",
       "    }\n",
       "\n",
       "    .dataframe tbody tr th {\n",
       "        vertical-align: top;\n",
       "    }\n",
       "\n",
       "    .dataframe thead th {\n",
       "        text-align: right;\n",
       "    }\n",
       "</style>\n",
       "<table border=\"1\" class=\"dataframe\">\n",
       "  <thead>\n",
       "    <tr style=\"text-align: right;\">\n",
       "      <th></th>\n",
       "      <th>nim</th>\n",
       "      <th>nama</th>\n",
       "      <th>nama_prodi</th>\n",
       "      <th>jenjang</th>\n",
       "      <th>angkatan</th>\n",
       "      <th>nama_pembimbing</th>\n",
       "      <th>tanggal_sk_pembimbing</th>\n",
       "      <th>tanggal_pelaksanaan_ujian</th>\n",
       "      <th>status_lulus</th>\n",
       "      <th>tgl_lulus</th>\n",
       "    </tr>\n",
       "  </thead>\n",
       "  <tbody>\n",
       "    <tr>\n",
       "      <th>0</th>\n",
       "      <td>4112317035</td>\n",
       "      <td>ALFIN WIDYATMOKO</td>\n",
       "      <td>Statistika Terapan dan Komputasi</td>\n",
       "      <td>D3</td>\n",
       "      <td>2017</td>\n",
       "      <td>Dr.  Iqbal Kharisudin M.Sc.</td>\n",
       "      <td>2022-07-11</td>\n",
       "      <td>NaN</td>\n",
       "      <td>LULUS</td>\n",
       "      <td>2022-08-19</td>\n",
       "    </tr>\n",
       "    <tr>\n",
       "      <th>1</th>\n",
       "      <td>4112318001</td>\n",
       "      <td>DHAMA SEKAR OKTAFANI</td>\n",
       "      <td>Statistika Terapan dan Komputasi</td>\n",
       "      <td>D3</td>\n",
       "      <td>2018</td>\n",
       "      <td>Dr.  Iqbal Kharisudin M.Sc.</td>\n",
       "      <td>2022-07-08</td>\n",
       "      <td>2023-07-21 08:10:00</td>\n",
       "      <td>LULUS</td>\n",
       "      <td>2023-07-21</td>\n",
       "    </tr>\n",
       "    <tr>\n",
       "      <th>2</th>\n",
       "      <td>4112318007</td>\n",
       "      <td>RANI WIDYANINGRUM</td>\n",
       "      <td>Statistika Terapan dan Komputasi</td>\n",
       "      <td>D3</td>\n",
       "      <td>2018</td>\n",
       "      <td>Prof. Dr. rer.nat.  YL Sukestiyarno M.S.</td>\n",
       "      <td>2022-08-15</td>\n",
       "      <td>2023-08-10 08:00:00</td>\n",
       "      <td>LULUS</td>\n",
       "      <td>2023-08-10</td>\n",
       "    </tr>\n",
       "    <tr>\n",
       "      <th>3</th>\n",
       "      <td>4112318009</td>\n",
       "      <td>ENDAH SRI WAHYUNI</td>\n",
       "      <td>Statistika Terapan dan Komputasi</td>\n",
       "      <td>D3</td>\n",
       "      <td>2018</td>\n",
       "      <td>Dr.  Iqbal Kharisudin M.Sc.</td>\n",
       "      <td>2023-02-07</td>\n",
       "      <td>2023-08-15 10:00:00</td>\n",
       "      <td>LULUS</td>\n",
       "      <td>2023-08-15</td>\n",
       "    </tr>\n",
       "    <tr>\n",
       "      <th>4</th>\n",
       "      <td>4112318015</td>\n",
       "      <td>BERTI SUHARYANI</td>\n",
       "      <td>Statistika Terapan dan Komputasi</td>\n",
       "      <td>D3</td>\n",
       "      <td>2018</td>\n",
       "      <td>Dr.  Scolastika Mariani M.Si.</td>\n",
       "      <td>2023-02-17</td>\n",
       "      <td>2023-07-21 10:00:00</td>\n",
       "      <td>LULUS</td>\n",
       "      <td>2023-08-16</td>\n",
       "    </tr>\n",
       "  </tbody>\n",
       "</table>\n",
       "</div>"
      ],
      "text/plain": [
       "          nim                  nama                        nama_prodi jenjang  \\\n",
       "0  4112317035      ALFIN WIDYATMOKO  Statistika Terapan dan Komputasi      D3   \n",
       "1  4112318001  DHAMA SEKAR OKTAFANI  Statistika Terapan dan Komputasi      D3   \n",
       "2  4112318007     RANI WIDYANINGRUM  Statistika Terapan dan Komputasi      D3   \n",
       "3  4112318009     ENDAH SRI WAHYUNI  Statistika Terapan dan Komputasi      D3   \n",
       "4  4112318015       BERTI SUHARYANI  Statistika Terapan dan Komputasi      D3   \n",
       "\n",
       "   angkatan                           nama_pembimbing tanggal_sk_pembimbing  \\\n",
       "0      2017               Dr.  Iqbal Kharisudin M.Sc.            2022-07-11   \n",
       "1      2018               Dr.  Iqbal Kharisudin M.Sc.            2022-07-08   \n",
       "2      2018  Prof. Dr. rer.nat.  YL Sukestiyarno M.S.            2022-08-15   \n",
       "3      2018               Dr.  Iqbal Kharisudin M.Sc.            2023-02-07   \n",
       "4      2018             Dr.  Scolastika Mariani M.Si.            2023-02-17   \n",
       "\n",
       "  tanggal_pelaksanaan_ujian status_lulus  tgl_lulus  \n",
       "0                       NaN        LULUS 2022-08-19  \n",
       "1       2023-07-21 08:10:00        LULUS 2023-07-21  \n",
       "2       2023-08-10 08:00:00        LULUS 2023-08-10  \n",
       "3       2023-08-15 10:00:00        LULUS 2023-08-15  \n",
       "4       2023-07-21 10:00:00        LULUS 2023-08-16  "
      ]
     },
     "execution_count": 116,
     "metadata": {},
     "output_type": "execute_result"
    }
   ],
   "source": [
    "raw_df = pd.read_excel('D:\\\\NIDS-2023\\\\mawa\\\\data-mhs.xlsx')\n",
    "raw_df.head(5)"
   ]
  },
  {
   "cell_type": "code",
   "execution_count": 117,
   "metadata": {},
   "outputs": [
    {
     "data": {
      "text/plain": [
       "(2432, 10)"
      ]
     },
     "execution_count": 117,
     "metadata": {},
     "output_type": "execute_result"
    }
   ],
   "source": [
    "raw_df.shape"
   ]
  },
  {
   "cell_type": "code",
   "execution_count": 118,
   "metadata": {},
   "outputs": [
    {
     "name": "stdout",
     "output_type": "stream",
     "text": [
      "<class 'pandas.core.frame.DataFrame'>\n",
      "RangeIndex: 2432 entries, 0 to 2431\n",
      "Data columns (total 10 columns):\n",
      " #   Column                     Non-Null Count  Dtype         \n",
      "---  ------                     --------------  -----         \n",
      " 0   nim                        2432 non-null   int64         \n",
      " 1   nama                       2432 non-null   object        \n",
      " 2   nama_prodi                 2432 non-null   object        \n",
      " 3   jenjang                    2432 non-null   object        \n",
      " 4   angkatan                   2432 non-null   int64         \n",
      " 5   nama_pembimbing            2432 non-null   object        \n",
      " 6   tanggal_sk_pembimbing      2432 non-null   datetime64[ns]\n",
      " 7   tanggal_pelaksanaan_ujian  1868 non-null   object        \n",
      " 8   status_lulus               2432 non-null   object        \n",
      " 9   tgl_lulus                  1793 non-null   datetime64[ns]\n",
      "dtypes: datetime64[ns](2), int64(2), object(6)\n",
      "memory usage: 190.1+ KB\n"
     ]
    }
   ],
   "source": [
    "raw_df.info()"
   ]
  },
  {
   "cell_type": "code",
   "execution_count": 119,
   "metadata": {},
   "outputs": [
    {
     "data": {
      "text/html": [
       "<div>\n",
       "<style scoped>\n",
       "    .dataframe tbody tr th:only-of-type {\n",
       "        vertical-align: middle;\n",
       "    }\n",
       "\n",
       "    .dataframe tbody tr th {\n",
       "        vertical-align: top;\n",
       "    }\n",
       "\n",
       "    .dataframe thead th {\n",
       "        text-align: right;\n",
       "    }\n",
       "</style>\n",
       "<table border=\"1\" class=\"dataframe\">\n",
       "  <thead>\n",
       "    <tr style=\"text-align: right;\">\n",
       "      <th></th>\n",
       "      <th>Angkatan</th>\n",
       "      <th>Jumlah</th>\n",
       "    </tr>\n",
       "  </thead>\n",
       "  <tbody>\n",
       "    <tr>\n",
       "      <th>0</th>\n",
       "      <td>2019</td>\n",
       "      <td>845</td>\n",
       "    </tr>\n",
       "    <tr>\n",
       "      <th>1</th>\n",
       "      <td>2018</td>\n",
       "      <td>842</td>\n",
       "    </tr>\n",
       "    <tr>\n",
       "      <th>2</th>\n",
       "      <td>2017</td>\n",
       "      <td>745</td>\n",
       "    </tr>\n",
       "  </tbody>\n",
       "</table>\n",
       "</div>"
      ],
      "text/plain": [
       "   Angkatan  Jumlah\n",
       "0      2019     845\n",
       "1      2018     842\n",
       "2      2017     745"
      ]
     },
     "execution_count": 119,
     "metadata": {},
     "output_type": "execute_result"
    }
   ],
   "source": [
    "# angkatan included in dataset\n",
    "angkatan = raw_df['angkatan'].value_counts().rename_axis('Angkatan').reset_index(name='Jumlah')\n",
    "angkatan"
   ]
  },
  {
   "cell_type": "markdown",
   "metadata": {},
   "source": [
    "# **Tahun 2017**"
   ]
  },
  {
   "cell_type": "markdown",
   "metadata": {},
   "source": [
    "## **Prepare Data**"
   ]
  },
  {
   "cell_type": "code",
   "execution_count": 120,
   "metadata": {},
   "outputs": [
    {
     "data": {
      "text/html": [
       "<div>\n",
       "<style scoped>\n",
       "    .dataframe tbody tr th:only-of-type {\n",
       "        vertical-align: middle;\n",
       "    }\n",
       "\n",
       "    .dataframe tbody tr th {\n",
       "        vertical-align: top;\n",
       "    }\n",
       "\n",
       "    .dataframe thead th {\n",
       "        text-align: right;\n",
       "    }\n",
       "</style>\n",
       "<table border=\"1\" class=\"dataframe\">\n",
       "  <thead>\n",
       "    <tr style=\"text-align: right;\">\n",
       "      <th></th>\n",
       "      <th>nim</th>\n",
       "      <th>nama</th>\n",
       "      <th>nama_prodi</th>\n",
       "      <th>jenjang</th>\n",
       "      <th>angkatan</th>\n",
       "      <th>nama_pembimbing</th>\n",
       "      <th>tanggal_sk_pembimbing</th>\n",
       "      <th>tanggal_pelaksanaan_ujian</th>\n",
       "      <th>status_lulus</th>\n",
       "      <th>tgl_lulus</th>\n",
       "    </tr>\n",
       "  </thead>\n",
       "  <tbody>\n",
       "    <tr>\n",
       "      <th>0</th>\n",
       "      <td>4112317035</td>\n",
       "      <td>ALFIN WIDYATMOKO</td>\n",
       "      <td>Statistika Terapan dan Komputasi</td>\n",
       "      <td>D3</td>\n",
       "      <td>2017</td>\n",
       "      <td>Dr.  Iqbal Kharisudin M.Sc.</td>\n",
       "      <td>2022-07-11</td>\n",
       "      <td>NaN</td>\n",
       "      <td>LULUS</td>\n",
       "      <td>2022-08-19</td>\n",
       "    </tr>\n",
       "    <tr>\n",
       "      <th>31</th>\n",
       "      <td>4101417001</td>\n",
       "      <td>Uun Roamah</td>\n",
       "      <td>Pendidikan Matematika</td>\n",
       "      <td>S1</td>\n",
       "      <td>2017</td>\n",
       "      <td>Muh. Fajar Safaatullah S.Si., M.Si.</td>\n",
       "      <td>2021-03-29</td>\n",
       "      <td>2022-08-01 00:00:00</td>\n",
       "      <td>LULUS</td>\n",
       "      <td>2022-08-16</td>\n",
       "    </tr>\n",
       "    <tr>\n",
       "      <th>32</th>\n",
       "      <td>4101417002</td>\n",
       "      <td>Rina Rahmawati</td>\n",
       "      <td>Pendidikan Matematika</td>\n",
       "      <td>S1</td>\n",
       "      <td>2017</td>\n",
       "      <td>Dr. Dra.  Emi Pujiastuti M.Pd.</td>\n",
       "      <td>2021-06-08</td>\n",
       "      <td>2023-01-16 00:00:00</td>\n",
       "      <td>LULUS</td>\n",
       "      <td>2023-01-27</td>\n",
       "    </tr>\n",
       "    <tr>\n",
       "      <th>33</th>\n",
       "      <td>4101417003</td>\n",
       "      <td>Risma Andini</td>\n",
       "      <td>Pendidikan Matematika</td>\n",
       "      <td>S1</td>\n",
       "      <td>2017</td>\n",
       "      <td>Dra.  Endang Retno Winarti M.Pd.</td>\n",
       "      <td>2021-02-15</td>\n",
       "      <td>2022-07-05 00:00:00</td>\n",
       "      <td>LULUS</td>\n",
       "      <td>2022-07-25</td>\n",
       "    </tr>\n",
       "    <tr>\n",
       "      <th>34</th>\n",
       "      <td>4101417004</td>\n",
       "      <td>Galuh Ayu</td>\n",
       "      <td>Pendidikan Matematika</td>\n",
       "      <td>S1</td>\n",
       "      <td>2017</td>\n",
       "      <td>Dr.  Rochmad M. Si.</td>\n",
       "      <td>2020-10-01</td>\n",
       "      <td>2021-03-05 00:00:00</td>\n",
       "      <td>LULUS</td>\n",
       "      <td>2021-03-05</td>\n",
       "    </tr>\n",
       "    <tr>\n",
       "      <th>...</th>\n",
       "      <td>...</td>\n",
       "      <td>...</td>\n",
       "      <td>...</td>\n",
       "      <td>...</td>\n",
       "      <td>...</td>\n",
       "      <td>...</td>\n",
       "      <td>...</td>\n",
       "      <td>...</td>\n",
       "      <td>...</td>\n",
       "      <td>...</td>\n",
       "    </tr>\n",
       "    <tr>\n",
       "      <th>2238</th>\n",
       "      <td>4611417077</td>\n",
       "      <td>YAYAN DWI KRISDIANTORO</td>\n",
       "      <td>Teknik Informatika</td>\n",
       "      <td>S1</td>\n",
       "      <td>2017</td>\n",
       "      <td>Budi Prasetiyo S.Si., M.Kom.</td>\n",
       "      <td>2022-04-21</td>\n",
       "      <td>NaN</td>\n",
       "      <td>BELUM LULUS</td>\n",
       "      <td>NaT</td>\n",
       "    </tr>\n",
       "    <tr>\n",
       "      <th>2239</th>\n",
       "      <td>4611417078</td>\n",
       "      <td>QOMARIAH NAJMI</td>\n",
       "      <td>Teknik Informatika</td>\n",
       "      <td>S1</td>\n",
       "      <td>2017</td>\n",
       "      <td>Anggyi Trisnawan Putra S.Si., M.Si.</td>\n",
       "      <td>2021-08-03</td>\n",
       "      <td>2021-11-19 00:00:00</td>\n",
       "      <td>LULUS</td>\n",
       "      <td>2021-11-26</td>\n",
       "    </tr>\n",
       "    <tr>\n",
       "      <th>2240</th>\n",
       "      <td>4611417079</td>\n",
       "      <td>ROFIQUL ANAM</td>\n",
       "      <td>Teknik Informatika</td>\n",
       "      <td>S1</td>\n",
       "      <td>2017</td>\n",
       "      <td>Dr.  Alamsyah S.Si., M.Kom.</td>\n",
       "      <td>2020-11-09</td>\n",
       "      <td>NaN</td>\n",
       "      <td>BELUM LULUS</td>\n",
       "      <td>NaT</td>\n",
       "    </tr>\n",
       "    <tr>\n",
       "      <th>2241</th>\n",
       "      <td>4611417080</td>\n",
       "      <td>MUHAMMAD GHIFARI KHANIF ALHUSNA</td>\n",
       "      <td>Teknik Informatika</td>\n",
       "      <td>S1</td>\n",
       "      <td>2017</td>\n",
       "      <td>Aji Purwinarko S.Si., M.Cs.</td>\n",
       "      <td>2022-10-25</td>\n",
       "      <td>2023-05-31 09:00:00</td>\n",
       "      <td>LULUS</td>\n",
       "      <td>2023-06-19</td>\n",
       "    </tr>\n",
       "    <tr>\n",
       "      <th>2242</th>\n",
       "      <td>4611417081</td>\n",
       "      <td>EKO WAHYU PRASETYO</td>\n",
       "      <td>Teknik Informatika</td>\n",
       "      <td>S1</td>\n",
       "      <td>2017</td>\n",
       "      <td>Anggyi Trisnawan Putra S.Si., M.Si.</td>\n",
       "      <td>2022-10-20</td>\n",
       "      <td>2023-08-17 11:00:00</td>\n",
       "      <td>LULUS</td>\n",
       "      <td>2023-08-18</td>\n",
       "    </tr>\n",
       "  </tbody>\n",
       "</table>\n",
       "<p>745 rows × 10 columns</p>\n",
       "</div>"
      ],
      "text/plain": [
       "             nim                             nama  \\\n",
       "0     4112317035                 ALFIN WIDYATMOKO   \n",
       "31    4101417001                       Uun Roamah   \n",
       "32    4101417002                   Rina Rahmawati   \n",
       "33    4101417003                     Risma Andini   \n",
       "34    4101417004                        Galuh Ayu   \n",
       "...          ...                              ...   \n",
       "2238  4611417077           YAYAN DWI KRISDIANTORO   \n",
       "2239  4611417078                   QOMARIAH NAJMI   \n",
       "2240  4611417079                     ROFIQUL ANAM   \n",
       "2241  4611417080  MUHAMMAD GHIFARI KHANIF ALHUSNA   \n",
       "2242  4611417081               EKO WAHYU PRASETYO   \n",
       "\n",
       "                            nama_prodi jenjang  angkatan  \\\n",
       "0     Statistika Terapan dan Komputasi      D3      2017   \n",
       "31               Pendidikan Matematika      S1      2017   \n",
       "32               Pendidikan Matematika      S1      2017   \n",
       "33               Pendidikan Matematika      S1      2017   \n",
       "34               Pendidikan Matematika      S1      2017   \n",
       "...                                ...     ...       ...   \n",
       "2238                Teknik Informatika      S1      2017   \n",
       "2239                Teknik Informatika      S1      2017   \n",
       "2240                Teknik Informatika      S1      2017   \n",
       "2241                Teknik Informatika      S1      2017   \n",
       "2242                Teknik Informatika      S1      2017   \n",
       "\n",
       "                          nama_pembimbing tanggal_sk_pembimbing  \\\n",
       "0             Dr.  Iqbal Kharisudin M.Sc.            2022-07-11   \n",
       "31    Muh. Fajar Safaatullah S.Si., M.Si.            2021-03-29   \n",
       "32         Dr. Dra.  Emi Pujiastuti M.Pd.            2021-06-08   \n",
       "33       Dra.  Endang Retno Winarti M.Pd.            2021-02-15   \n",
       "34                    Dr.  Rochmad M. Si.            2020-10-01   \n",
       "...                                   ...                   ...   \n",
       "2238         Budi Prasetiyo S.Si., M.Kom.            2022-04-21   \n",
       "2239  Anggyi Trisnawan Putra S.Si., M.Si.            2021-08-03   \n",
       "2240          Dr.  Alamsyah S.Si., M.Kom.            2020-11-09   \n",
       "2241          Aji Purwinarko S.Si., M.Cs.            2022-10-25   \n",
       "2242  Anggyi Trisnawan Putra S.Si., M.Si.            2022-10-20   \n",
       "\n",
       "     tanggal_pelaksanaan_ujian status_lulus  tgl_lulus  \n",
       "0                          NaN        LULUS 2022-08-19  \n",
       "31         2022-08-01 00:00:00        LULUS 2022-08-16  \n",
       "32         2023-01-16 00:00:00        LULUS 2023-01-27  \n",
       "33         2022-07-05 00:00:00        LULUS 2022-07-25  \n",
       "34         2021-03-05 00:00:00        LULUS 2021-03-05  \n",
       "...                        ...          ...        ...  \n",
       "2238                       NaN  BELUM LULUS        NaT  \n",
       "2239       2021-11-19 00:00:00        LULUS 2021-11-26  \n",
       "2240                       NaN  BELUM LULUS        NaT  \n",
       "2241       2023-05-31 09:00:00        LULUS 2023-06-19  \n",
       "2242       2023-08-17 11:00:00        LULUS 2023-08-18  \n",
       "\n",
       "[745 rows x 10 columns]"
      ]
     },
     "execution_count": 120,
     "metadata": {},
     "output_type": "execute_result"
    }
   ],
   "source": [
    "angkatan17 = raw_df.loc[raw_df['angkatan'] == 2017]\n",
    "angkatan17"
   ]
  },
  {
   "cell_type": "code",
   "execution_count": 121,
   "metadata": {},
   "outputs": [
    {
     "data": {
      "text/html": [
       "<div>\n",
       "<style scoped>\n",
       "    .dataframe tbody tr th:only-of-type {\n",
       "        vertical-align: middle;\n",
       "    }\n",
       "\n",
       "    .dataframe tbody tr th {\n",
       "        vertical-align: top;\n",
       "    }\n",
       "\n",
       "    .dataframe thead th {\n",
       "        text-align: right;\n",
       "    }\n",
       "</style>\n",
       "<table border=\"1\" class=\"dataframe\">\n",
       "  <thead>\n",
       "    <tr style=\"text-align: right;\">\n",
       "      <th></th>\n",
       "      <th>nama_prodi</th>\n",
       "      <th>status_lulus</th>\n",
       "      <th>jumlah</th>\n",
       "    </tr>\n",
       "  </thead>\n",
       "  <tbody>\n",
       "    <tr>\n",
       "      <th>0</th>\n",
       "      <td>Biologi</td>\n",
       "      <td>BELUM LULUS</td>\n",
       "      <td>13</td>\n",
       "    </tr>\n",
       "    <tr>\n",
       "      <th>1</th>\n",
       "      <td>Biologi</td>\n",
       "      <td>LULUS</td>\n",
       "      <td>50</td>\n",
       "    </tr>\n",
       "    <tr>\n",
       "      <th>2</th>\n",
       "      <td>Fisika</td>\n",
       "      <td>BELUM LULUS</td>\n",
       "      <td>2</td>\n",
       "    </tr>\n",
       "    <tr>\n",
       "      <th>3</th>\n",
       "      <td>Fisika</td>\n",
       "      <td>LULUS</td>\n",
       "      <td>27</td>\n",
       "    </tr>\n",
       "    <tr>\n",
       "      <th>4</th>\n",
       "      <td>Kimia</td>\n",
       "      <td>BELUM LULUS</td>\n",
       "      <td>1</td>\n",
       "    </tr>\n",
       "    <tr>\n",
       "      <th>5</th>\n",
       "      <td>Kimia</td>\n",
       "      <td>LULUS</td>\n",
       "      <td>58</td>\n",
       "    </tr>\n",
       "    <tr>\n",
       "      <th>6</th>\n",
       "      <td>Matematika</td>\n",
       "      <td>BELUM LULUS</td>\n",
       "      <td>5</td>\n",
       "    </tr>\n",
       "    <tr>\n",
       "      <th>7</th>\n",
       "      <td>Matematika</td>\n",
       "      <td>LULUS</td>\n",
       "      <td>31</td>\n",
       "    </tr>\n",
       "    <tr>\n",
       "      <th>8</th>\n",
       "      <td>Pendidikan Biologi</td>\n",
       "      <td>BELUM LULUS</td>\n",
       "      <td>24</td>\n",
       "    </tr>\n",
       "    <tr>\n",
       "      <th>9</th>\n",
       "      <td>Pendidikan Biologi</td>\n",
       "      <td>LULUS</td>\n",
       "      <td>70</td>\n",
       "    </tr>\n",
       "    <tr>\n",
       "      <th>10</th>\n",
       "      <td>Pendidikan Fisika</td>\n",
       "      <td>BELUM LULUS</td>\n",
       "      <td>7</td>\n",
       "    </tr>\n",
       "    <tr>\n",
       "      <th>11</th>\n",
       "      <td>Pendidikan Fisika</td>\n",
       "      <td>LULUS</td>\n",
       "      <td>77</td>\n",
       "    </tr>\n",
       "    <tr>\n",
       "      <th>12</th>\n",
       "      <td>Pendidikan Ilmu Pengetahuan Alam</td>\n",
       "      <td>BELUM LULUS</td>\n",
       "      <td>9</td>\n",
       "    </tr>\n",
       "    <tr>\n",
       "      <th>13</th>\n",
       "      <td>Pendidikan Ilmu Pengetahuan Alam</td>\n",
       "      <td>LULUS</td>\n",
       "      <td>65</td>\n",
       "    </tr>\n",
       "    <tr>\n",
       "      <th>14</th>\n",
       "      <td>Pendidikan Kimia</td>\n",
       "      <td>BELUM LULUS</td>\n",
       "      <td>5</td>\n",
       "    </tr>\n",
       "    <tr>\n",
       "      <th>15</th>\n",
       "      <td>Pendidikan Kimia</td>\n",
       "      <td>LULUS</td>\n",
       "      <td>66</td>\n",
       "    </tr>\n",
       "    <tr>\n",
       "      <th>16</th>\n",
       "      <td>Pendidikan Matematika</td>\n",
       "      <td>BELUM LULUS</td>\n",
       "      <td>36</td>\n",
       "    </tr>\n",
       "    <tr>\n",
       "      <th>17</th>\n",
       "      <td>Pendidikan Matematika</td>\n",
       "      <td>LULUS</td>\n",
       "      <td>134</td>\n",
       "    </tr>\n",
       "    <tr>\n",
       "      <th>18</th>\n",
       "      <td>Statistika Terapan dan Komputasi</td>\n",
       "      <td>LULUS</td>\n",
       "      <td>1</td>\n",
       "    </tr>\n",
       "    <tr>\n",
       "      <th>19</th>\n",
       "      <td>Teknik Informatika</td>\n",
       "      <td>BELUM LULUS</td>\n",
       "      <td>17</td>\n",
       "    </tr>\n",
       "    <tr>\n",
       "      <th>20</th>\n",
       "      <td>Teknik Informatika</td>\n",
       "      <td>LULUS</td>\n",
       "      <td>47</td>\n",
       "    </tr>\n",
       "  </tbody>\n",
       "</table>\n",
       "</div>"
      ],
      "text/plain": [
       "                          nama_prodi status_lulus  jumlah\n",
       "0                            Biologi  BELUM LULUS      13\n",
       "1                            Biologi        LULUS      50\n",
       "2                             Fisika  BELUM LULUS       2\n",
       "3                             Fisika        LULUS      27\n",
       "4                              Kimia  BELUM LULUS       1\n",
       "5                              Kimia        LULUS      58\n",
       "6                         Matematika  BELUM LULUS       5\n",
       "7                         Matematika        LULUS      31\n",
       "8                 Pendidikan Biologi  BELUM LULUS      24\n",
       "9                 Pendidikan Biologi        LULUS      70\n",
       "10                 Pendidikan Fisika  BELUM LULUS       7\n",
       "11                 Pendidikan Fisika        LULUS      77\n",
       "12  Pendidikan Ilmu Pengetahuan Alam  BELUM LULUS       9\n",
       "13  Pendidikan Ilmu Pengetahuan Alam        LULUS      65\n",
       "14                  Pendidikan Kimia  BELUM LULUS       5\n",
       "15                  Pendidikan Kimia        LULUS      66\n",
       "16             Pendidikan Matematika  BELUM LULUS      36\n",
       "17             Pendidikan Matematika        LULUS     134\n",
       "18  Statistika Terapan dan Komputasi        LULUS       1\n",
       "19                Teknik Informatika  BELUM LULUS      17\n",
       "20                Teknik Informatika        LULUS      47"
      ]
     },
     "execution_count": 121,
     "metadata": {},
     "output_type": "execute_result"
    }
   ],
   "source": [
    "angkatan17.groupby(['nama_prodi','status_lulus']).size().reset_index(name='jumlah')"
   ]
  },
  {
   "cell_type": "code",
   "execution_count": 122,
   "metadata": {},
   "outputs": [
    {
     "data": {
      "application/vnd.plotly.v1+json": {
       "config": {
        "plotlyServerURL": "https://plot.ly"
       },
       "data": [
        {
         "alignmentgroup": "True",
         "hovertemplate": "status_lulus=BELUM LULUS<br>nama_prodi=%{x}<br>jumlah Mahasiswa=%{text}<extra></extra>",
         "legendgroup": "BELUM LULUS",
         "marker": {
          "color": "#636efa",
          "pattern": {
           "shape": ""
          }
         },
         "name": "BELUM LULUS",
         "offsetgroup": "BELUM LULUS",
         "orientation": "v",
         "showlegend": true,
         "text": [
          13,
          2,
          1,
          5,
          24,
          7,
          9,
          5,
          36,
          17
         ],
         "textposition": "auto",
         "type": "bar",
         "x": [
          "Biologi",
          "Fisika",
          "Kimia",
          "Matematika",
          "Pendidikan Biologi",
          "Pendidikan Fisika",
          "Pendidikan Ilmu Pengetahuan Alam",
          "Pendidikan Kimia",
          "Pendidikan Matematika",
          "Teknik Informatika"
         ],
         "xaxis": "x",
         "y": [
          13,
          2,
          1,
          5,
          24,
          7,
          9,
          5,
          36,
          17
         ],
         "yaxis": "y"
        },
        {
         "alignmentgroup": "True",
         "hovertemplate": "status_lulus=LULUS<br>nama_prodi=%{x}<br>jumlah Mahasiswa=%{text}<extra></extra>",
         "legendgroup": "LULUS",
         "marker": {
          "color": "#EF553B",
          "pattern": {
           "shape": ""
          }
         },
         "name": "LULUS",
         "offsetgroup": "LULUS",
         "orientation": "v",
         "showlegend": true,
         "text": [
          50,
          27,
          58,
          31,
          70,
          77,
          65,
          66,
          134,
          1,
          47
         ],
         "textposition": "auto",
         "type": "bar",
         "x": [
          "Biologi",
          "Fisika",
          "Kimia",
          "Matematika",
          "Pendidikan Biologi",
          "Pendidikan Fisika",
          "Pendidikan Ilmu Pengetahuan Alam",
          "Pendidikan Kimia",
          "Pendidikan Matematika",
          "Statistika Terapan dan Komputasi",
          "Teknik Informatika"
         ],
         "xaxis": "x",
         "y": [
          50,
          27,
          58,
          31,
          70,
          77,
          65,
          66,
          134,
          1,
          47
         ],
         "yaxis": "y"
        }
       ],
       "layout": {
        "barmode": "group",
        "legend": {
         "title": {
          "text": "status_lulus"
         },
         "tracegroupgap": 0
        },
        "template": {
         "data": {
          "bar": [
           {
            "error_x": {
             "color": "#2a3f5f"
            },
            "error_y": {
             "color": "#2a3f5f"
            },
            "marker": {
             "line": {
              "color": "#E5ECF6",
              "width": 0.5
             },
             "pattern": {
              "fillmode": "overlay",
              "size": 10,
              "solidity": 0.2
             }
            },
            "type": "bar"
           }
          ],
          "barpolar": [
           {
            "marker": {
             "line": {
              "color": "#E5ECF6",
              "width": 0.5
             },
             "pattern": {
              "fillmode": "overlay",
              "size": 10,
              "solidity": 0.2
             }
            },
            "type": "barpolar"
           }
          ],
          "carpet": [
           {
            "aaxis": {
             "endlinecolor": "#2a3f5f",
             "gridcolor": "white",
             "linecolor": "white",
             "minorgridcolor": "white",
             "startlinecolor": "#2a3f5f"
            },
            "baxis": {
             "endlinecolor": "#2a3f5f",
             "gridcolor": "white",
             "linecolor": "white",
             "minorgridcolor": "white",
             "startlinecolor": "#2a3f5f"
            },
            "type": "carpet"
           }
          ],
          "choropleth": [
           {
            "colorbar": {
             "outlinewidth": 0,
             "ticks": ""
            },
            "type": "choropleth"
           }
          ],
          "contour": [
           {
            "colorbar": {
             "outlinewidth": 0,
             "ticks": ""
            },
            "colorscale": [
             [
              0,
              "#0d0887"
             ],
             [
              0.1111111111111111,
              "#46039f"
             ],
             [
              0.2222222222222222,
              "#7201a8"
             ],
             [
              0.3333333333333333,
              "#9c179e"
             ],
             [
              0.4444444444444444,
              "#bd3786"
             ],
             [
              0.5555555555555556,
              "#d8576b"
             ],
             [
              0.6666666666666666,
              "#ed7953"
             ],
             [
              0.7777777777777778,
              "#fb9f3a"
             ],
             [
              0.8888888888888888,
              "#fdca26"
             ],
             [
              1,
              "#f0f921"
             ]
            ],
            "type": "contour"
           }
          ],
          "contourcarpet": [
           {
            "colorbar": {
             "outlinewidth": 0,
             "ticks": ""
            },
            "type": "contourcarpet"
           }
          ],
          "heatmap": [
           {
            "colorbar": {
             "outlinewidth": 0,
             "ticks": ""
            },
            "colorscale": [
             [
              0,
              "#0d0887"
             ],
             [
              0.1111111111111111,
              "#46039f"
             ],
             [
              0.2222222222222222,
              "#7201a8"
             ],
             [
              0.3333333333333333,
              "#9c179e"
             ],
             [
              0.4444444444444444,
              "#bd3786"
             ],
             [
              0.5555555555555556,
              "#d8576b"
             ],
             [
              0.6666666666666666,
              "#ed7953"
             ],
             [
              0.7777777777777778,
              "#fb9f3a"
             ],
             [
              0.8888888888888888,
              "#fdca26"
             ],
             [
              1,
              "#f0f921"
             ]
            ],
            "type": "heatmap"
           }
          ],
          "heatmapgl": [
           {
            "colorbar": {
             "outlinewidth": 0,
             "ticks": ""
            },
            "colorscale": [
             [
              0,
              "#0d0887"
             ],
             [
              0.1111111111111111,
              "#46039f"
             ],
             [
              0.2222222222222222,
              "#7201a8"
             ],
             [
              0.3333333333333333,
              "#9c179e"
             ],
             [
              0.4444444444444444,
              "#bd3786"
             ],
             [
              0.5555555555555556,
              "#d8576b"
             ],
             [
              0.6666666666666666,
              "#ed7953"
             ],
             [
              0.7777777777777778,
              "#fb9f3a"
             ],
             [
              0.8888888888888888,
              "#fdca26"
             ],
             [
              1,
              "#f0f921"
             ]
            ],
            "type": "heatmapgl"
           }
          ],
          "histogram": [
           {
            "marker": {
             "pattern": {
              "fillmode": "overlay",
              "size": 10,
              "solidity": 0.2
             }
            },
            "type": "histogram"
           }
          ],
          "histogram2d": [
           {
            "colorbar": {
             "outlinewidth": 0,
             "ticks": ""
            },
            "colorscale": [
             [
              0,
              "#0d0887"
             ],
             [
              0.1111111111111111,
              "#46039f"
             ],
             [
              0.2222222222222222,
              "#7201a8"
             ],
             [
              0.3333333333333333,
              "#9c179e"
             ],
             [
              0.4444444444444444,
              "#bd3786"
             ],
             [
              0.5555555555555556,
              "#d8576b"
             ],
             [
              0.6666666666666666,
              "#ed7953"
             ],
             [
              0.7777777777777778,
              "#fb9f3a"
             ],
             [
              0.8888888888888888,
              "#fdca26"
             ],
             [
              1,
              "#f0f921"
             ]
            ],
            "type": "histogram2d"
           }
          ],
          "histogram2dcontour": [
           {
            "colorbar": {
             "outlinewidth": 0,
             "ticks": ""
            },
            "colorscale": [
             [
              0,
              "#0d0887"
             ],
             [
              0.1111111111111111,
              "#46039f"
             ],
             [
              0.2222222222222222,
              "#7201a8"
             ],
             [
              0.3333333333333333,
              "#9c179e"
             ],
             [
              0.4444444444444444,
              "#bd3786"
             ],
             [
              0.5555555555555556,
              "#d8576b"
             ],
             [
              0.6666666666666666,
              "#ed7953"
             ],
             [
              0.7777777777777778,
              "#fb9f3a"
             ],
             [
              0.8888888888888888,
              "#fdca26"
             ],
             [
              1,
              "#f0f921"
             ]
            ],
            "type": "histogram2dcontour"
           }
          ],
          "mesh3d": [
           {
            "colorbar": {
             "outlinewidth": 0,
             "ticks": ""
            },
            "type": "mesh3d"
           }
          ],
          "parcoords": [
           {
            "line": {
             "colorbar": {
              "outlinewidth": 0,
              "ticks": ""
             }
            },
            "type": "parcoords"
           }
          ],
          "pie": [
           {
            "automargin": true,
            "type": "pie"
           }
          ],
          "scatter": [
           {
            "fillpattern": {
             "fillmode": "overlay",
             "size": 10,
             "solidity": 0.2
            },
            "type": "scatter"
           }
          ],
          "scatter3d": [
           {
            "line": {
             "colorbar": {
              "outlinewidth": 0,
              "ticks": ""
             }
            },
            "marker": {
             "colorbar": {
              "outlinewidth": 0,
              "ticks": ""
             }
            },
            "type": "scatter3d"
           }
          ],
          "scattercarpet": [
           {
            "marker": {
             "colorbar": {
              "outlinewidth": 0,
              "ticks": ""
             }
            },
            "type": "scattercarpet"
           }
          ],
          "scattergeo": [
           {
            "marker": {
             "colorbar": {
              "outlinewidth": 0,
              "ticks": ""
             }
            },
            "type": "scattergeo"
           }
          ],
          "scattergl": [
           {
            "marker": {
             "colorbar": {
              "outlinewidth": 0,
              "ticks": ""
             }
            },
            "type": "scattergl"
           }
          ],
          "scattermapbox": [
           {
            "marker": {
             "colorbar": {
              "outlinewidth": 0,
              "ticks": ""
             }
            },
            "type": "scattermapbox"
           }
          ],
          "scatterpolar": [
           {
            "marker": {
             "colorbar": {
              "outlinewidth": 0,
              "ticks": ""
             }
            },
            "type": "scatterpolar"
           }
          ],
          "scatterpolargl": [
           {
            "marker": {
             "colorbar": {
              "outlinewidth": 0,
              "ticks": ""
             }
            },
            "type": "scatterpolargl"
           }
          ],
          "scatterternary": [
           {
            "marker": {
             "colorbar": {
              "outlinewidth": 0,
              "ticks": ""
             }
            },
            "type": "scatterternary"
           }
          ],
          "surface": [
           {
            "colorbar": {
             "outlinewidth": 0,
             "ticks": ""
            },
            "colorscale": [
             [
              0,
              "#0d0887"
             ],
             [
              0.1111111111111111,
              "#46039f"
             ],
             [
              0.2222222222222222,
              "#7201a8"
             ],
             [
              0.3333333333333333,
              "#9c179e"
             ],
             [
              0.4444444444444444,
              "#bd3786"
             ],
             [
              0.5555555555555556,
              "#d8576b"
             ],
             [
              0.6666666666666666,
              "#ed7953"
             ],
             [
              0.7777777777777778,
              "#fb9f3a"
             ],
             [
              0.8888888888888888,
              "#fdca26"
             ],
             [
              1,
              "#f0f921"
             ]
            ],
            "type": "surface"
           }
          ],
          "table": [
           {
            "cells": {
             "fill": {
              "color": "#EBF0F8"
             },
             "line": {
              "color": "white"
             }
            },
            "header": {
             "fill": {
              "color": "#C8D4E3"
             },
             "line": {
              "color": "white"
             }
            },
            "type": "table"
           }
          ]
         },
         "layout": {
          "annotationdefaults": {
           "arrowcolor": "#2a3f5f",
           "arrowhead": 0,
           "arrowwidth": 1
          },
          "autotypenumbers": "strict",
          "coloraxis": {
           "colorbar": {
            "outlinewidth": 0,
            "ticks": ""
           }
          },
          "colorscale": {
           "diverging": [
            [
             0,
             "#8e0152"
            ],
            [
             0.1,
             "#c51b7d"
            ],
            [
             0.2,
             "#de77ae"
            ],
            [
             0.3,
             "#f1b6da"
            ],
            [
             0.4,
             "#fde0ef"
            ],
            [
             0.5,
             "#f7f7f7"
            ],
            [
             0.6,
             "#e6f5d0"
            ],
            [
             0.7,
             "#b8e186"
            ],
            [
             0.8,
             "#7fbc41"
            ],
            [
             0.9,
             "#4d9221"
            ],
            [
             1,
             "#276419"
            ]
           ],
           "sequential": [
            [
             0,
             "#0d0887"
            ],
            [
             0.1111111111111111,
             "#46039f"
            ],
            [
             0.2222222222222222,
             "#7201a8"
            ],
            [
             0.3333333333333333,
             "#9c179e"
            ],
            [
             0.4444444444444444,
             "#bd3786"
            ],
            [
             0.5555555555555556,
             "#d8576b"
            ],
            [
             0.6666666666666666,
             "#ed7953"
            ],
            [
             0.7777777777777778,
             "#fb9f3a"
            ],
            [
             0.8888888888888888,
             "#fdca26"
            ],
            [
             1,
             "#f0f921"
            ]
           ],
           "sequentialminus": [
            [
             0,
             "#0d0887"
            ],
            [
             0.1111111111111111,
             "#46039f"
            ],
            [
             0.2222222222222222,
             "#7201a8"
            ],
            [
             0.3333333333333333,
             "#9c179e"
            ],
            [
             0.4444444444444444,
             "#bd3786"
            ],
            [
             0.5555555555555556,
             "#d8576b"
            ],
            [
             0.6666666666666666,
             "#ed7953"
            ],
            [
             0.7777777777777778,
             "#fb9f3a"
            ],
            [
             0.8888888888888888,
             "#fdca26"
            ],
            [
             1,
             "#f0f921"
            ]
           ]
          },
          "colorway": [
           "#636efa",
           "#EF553B",
           "#00cc96",
           "#ab63fa",
           "#FFA15A",
           "#19d3f3",
           "#FF6692",
           "#B6E880",
           "#FF97FF",
           "#FECB52"
          ],
          "font": {
           "color": "#2a3f5f"
          },
          "geo": {
           "bgcolor": "white",
           "lakecolor": "white",
           "landcolor": "#E5ECF6",
           "showlakes": true,
           "showland": true,
           "subunitcolor": "white"
          },
          "hoverlabel": {
           "align": "left"
          },
          "hovermode": "closest",
          "mapbox": {
           "style": "light"
          },
          "paper_bgcolor": "white",
          "plot_bgcolor": "#E5ECF6",
          "polar": {
           "angularaxis": {
            "gridcolor": "white",
            "linecolor": "white",
            "ticks": ""
           },
           "bgcolor": "#E5ECF6",
           "radialaxis": {
            "gridcolor": "white",
            "linecolor": "white",
            "ticks": ""
           }
          },
          "scene": {
           "xaxis": {
            "backgroundcolor": "#E5ECF6",
            "gridcolor": "white",
            "gridwidth": 2,
            "linecolor": "white",
            "showbackground": true,
            "ticks": "",
            "zerolinecolor": "white"
           },
           "yaxis": {
            "backgroundcolor": "#E5ECF6",
            "gridcolor": "white",
            "gridwidth": 2,
            "linecolor": "white",
            "showbackground": true,
            "ticks": "",
            "zerolinecolor": "white"
           },
           "zaxis": {
            "backgroundcolor": "#E5ECF6",
            "gridcolor": "white",
            "gridwidth": 2,
            "linecolor": "white",
            "showbackground": true,
            "ticks": "",
            "zerolinecolor": "white"
           }
          },
          "shapedefaults": {
           "line": {
            "color": "#2a3f5f"
           }
          },
          "ternary": {
           "aaxis": {
            "gridcolor": "white",
            "linecolor": "white",
            "ticks": ""
           },
           "baxis": {
            "gridcolor": "white",
            "linecolor": "white",
            "ticks": ""
           },
           "bgcolor": "#E5ECF6",
           "caxis": {
            "gridcolor": "white",
            "linecolor": "white",
            "ticks": ""
           }
          },
          "title": {
           "x": 0.05
          },
          "xaxis": {
           "automargin": true,
           "gridcolor": "white",
           "linecolor": "white",
           "ticks": "",
           "title": {
            "standoff": 15
           },
           "zerolinecolor": "white",
           "zerolinewidth": 2
          },
          "yaxis": {
           "automargin": true,
           "gridcolor": "white",
           "linecolor": "white",
           "ticks": "",
           "title": {
            "standoff": 15
           },
           "zerolinecolor": "white",
           "zerolinewidth": 2
          }
         }
        },
        "title": {
         "text": "jumlah Kelulusan Prodi"
        },
        "xaxis": {
         "anchor": "y",
         "domain": [
          0,
          1
         ],
         "title": {
          "text": "nama_prodi"
         }
        },
        "yaxis": {
         "anchor": "x",
         "domain": [
          0,
          1
         ],
         "title": {
          "text": "jumlah Mahasiswa"
         }
        }
       }
      }
     },
     "metadata": {},
     "output_type": "display_data"
    }
   ],
   "source": [
    "fig = px.bar(angkatan17.groupby(['nama_prodi','status_lulus']).size().reset_index(name='jumlah'), \n",
    "             x='nama_prodi', \n",
    "             y='jumlah', \n",
    "             color='status_lulus', \n",
    "             barmode='group',\n",
    "             title='jumlah Kelulusan Prodi',\n",
    "             labels={'jumlah': 'jumlah Mahasiswa', 'Prodi': 'nama_prodi'},\n",
    "             text='jumlah'\n",
    "            )\n",
    "\n",
    "fig.update_layout(yaxis=dict(title='jumlah Mahasiswa'))  # Label sumbu Y\n",
    "\n",
    "fig.show()"
   ]
  },
  {
   "cell_type": "markdown",
   "metadata": {},
   "source": [
    "Note:\n",
    "\n",
    "Prodi Statistika Terapan dan Komputasi pada dataset hanya ada 1 mahasiswa, oleh karena itu akan kita exclude."
   ]
  },
  {
   "cell_type": "code",
   "execution_count": 123,
   "metadata": {},
   "outputs": [
    {
     "data": {
      "text/html": [
       "<div>\n",
       "<style scoped>\n",
       "    .dataframe tbody tr th:only-of-type {\n",
       "        vertical-align: middle;\n",
       "    }\n",
       "\n",
       "    .dataframe tbody tr th {\n",
       "        vertical-align: top;\n",
       "    }\n",
       "\n",
       "    .dataframe thead th {\n",
       "        text-align: right;\n",
       "    }\n",
       "</style>\n",
       "<table border=\"1\" class=\"dataframe\">\n",
       "  <thead>\n",
       "    <tr style=\"text-align: right;\">\n",
       "      <th></th>\n",
       "      <th>nim</th>\n",
       "      <th>nama</th>\n",
       "      <th>nama_prodi</th>\n",
       "      <th>jenjang</th>\n",
       "      <th>angkatan</th>\n",
       "      <th>nama_pembimbing</th>\n",
       "      <th>tanggal_sk_pembimbing</th>\n",
       "      <th>tanggal_pelaksanaan_ujian</th>\n",
       "      <th>status_lulus</th>\n",
       "      <th>tgl_lulus</th>\n",
       "    </tr>\n",
       "  </thead>\n",
       "  <tbody>\n",
       "    <tr>\n",
       "      <th>31</th>\n",
       "      <td>4101417001</td>\n",
       "      <td>Uun Roamah</td>\n",
       "      <td>Pendidikan Matematika</td>\n",
       "      <td>S1</td>\n",
       "      <td>2017</td>\n",
       "      <td>Muh. Fajar Safaatullah S.Si., M.Si.</td>\n",
       "      <td>2021-03-29</td>\n",
       "      <td>2022-08-01 00:00:00</td>\n",
       "      <td>LULUS</td>\n",
       "      <td>2022-08-16</td>\n",
       "    </tr>\n",
       "    <tr>\n",
       "      <th>32</th>\n",
       "      <td>4101417002</td>\n",
       "      <td>Rina Rahmawati</td>\n",
       "      <td>Pendidikan Matematika</td>\n",
       "      <td>S1</td>\n",
       "      <td>2017</td>\n",
       "      <td>Dr. Dra.  Emi Pujiastuti M.Pd.</td>\n",
       "      <td>2021-06-08</td>\n",
       "      <td>2023-01-16 00:00:00</td>\n",
       "      <td>LULUS</td>\n",
       "      <td>2023-01-27</td>\n",
       "    </tr>\n",
       "    <tr>\n",
       "      <th>33</th>\n",
       "      <td>4101417003</td>\n",
       "      <td>Risma Andini</td>\n",
       "      <td>Pendidikan Matematika</td>\n",
       "      <td>S1</td>\n",
       "      <td>2017</td>\n",
       "      <td>Dra.  Endang Retno Winarti M.Pd.</td>\n",
       "      <td>2021-02-15</td>\n",
       "      <td>2022-07-05 00:00:00</td>\n",
       "      <td>LULUS</td>\n",
       "      <td>2022-07-25</td>\n",
       "    </tr>\n",
       "    <tr>\n",
       "      <th>34</th>\n",
       "      <td>4101417004</td>\n",
       "      <td>Galuh Ayu</td>\n",
       "      <td>Pendidikan Matematika</td>\n",
       "      <td>S1</td>\n",
       "      <td>2017</td>\n",
       "      <td>Dr.  Rochmad M. Si.</td>\n",
       "      <td>2020-10-01</td>\n",
       "      <td>2021-03-05 00:00:00</td>\n",
       "      <td>LULUS</td>\n",
       "      <td>2021-03-05</td>\n",
       "    </tr>\n",
       "    <tr>\n",
       "      <th>35</th>\n",
       "      <td>4101417005</td>\n",
       "      <td>Oktriviani Dewi</td>\n",
       "      <td>Pendidikan Matematika</td>\n",
       "      <td>S1</td>\n",
       "      <td>2017</td>\n",
       "      <td>Dr.  Kristina Wijayanti M.S.</td>\n",
       "      <td>2021-03-26</td>\n",
       "      <td>2021-10-14 00:00:00</td>\n",
       "      <td>LULUS</td>\n",
       "      <td>2021-10-29</td>\n",
       "    </tr>\n",
       "    <tr>\n",
       "      <th>...</th>\n",
       "      <td>...</td>\n",
       "      <td>...</td>\n",
       "      <td>...</td>\n",
       "      <td>...</td>\n",
       "      <td>...</td>\n",
       "      <td>...</td>\n",
       "      <td>...</td>\n",
       "      <td>...</td>\n",
       "      <td>...</td>\n",
       "      <td>...</td>\n",
       "    </tr>\n",
       "    <tr>\n",
       "      <th>2238</th>\n",
       "      <td>4611417077</td>\n",
       "      <td>YAYAN DWI KRISDIANTORO</td>\n",
       "      <td>Teknik Informatika</td>\n",
       "      <td>S1</td>\n",
       "      <td>2017</td>\n",
       "      <td>Budi Prasetiyo S.Si., M.Kom.</td>\n",
       "      <td>2022-04-21</td>\n",
       "      <td>NaN</td>\n",
       "      <td>BELUM LULUS</td>\n",
       "      <td>NaT</td>\n",
       "    </tr>\n",
       "    <tr>\n",
       "      <th>2239</th>\n",
       "      <td>4611417078</td>\n",
       "      <td>QOMARIAH NAJMI</td>\n",
       "      <td>Teknik Informatika</td>\n",
       "      <td>S1</td>\n",
       "      <td>2017</td>\n",
       "      <td>Anggyi Trisnawan Putra S.Si., M.Si.</td>\n",
       "      <td>2021-08-03</td>\n",
       "      <td>2021-11-19 00:00:00</td>\n",
       "      <td>LULUS</td>\n",
       "      <td>2021-11-26</td>\n",
       "    </tr>\n",
       "    <tr>\n",
       "      <th>2240</th>\n",
       "      <td>4611417079</td>\n",
       "      <td>ROFIQUL ANAM</td>\n",
       "      <td>Teknik Informatika</td>\n",
       "      <td>S1</td>\n",
       "      <td>2017</td>\n",
       "      <td>Dr.  Alamsyah S.Si., M.Kom.</td>\n",
       "      <td>2020-11-09</td>\n",
       "      <td>NaN</td>\n",
       "      <td>BELUM LULUS</td>\n",
       "      <td>NaT</td>\n",
       "    </tr>\n",
       "    <tr>\n",
       "      <th>2241</th>\n",
       "      <td>4611417080</td>\n",
       "      <td>MUHAMMAD GHIFARI KHANIF ALHUSNA</td>\n",
       "      <td>Teknik Informatika</td>\n",
       "      <td>S1</td>\n",
       "      <td>2017</td>\n",
       "      <td>Aji Purwinarko S.Si., M.Cs.</td>\n",
       "      <td>2022-10-25</td>\n",
       "      <td>2023-05-31 09:00:00</td>\n",
       "      <td>LULUS</td>\n",
       "      <td>2023-06-19</td>\n",
       "    </tr>\n",
       "    <tr>\n",
       "      <th>2242</th>\n",
       "      <td>4611417081</td>\n",
       "      <td>EKO WAHYU PRASETYO</td>\n",
       "      <td>Teknik Informatika</td>\n",
       "      <td>S1</td>\n",
       "      <td>2017</td>\n",
       "      <td>Anggyi Trisnawan Putra S.Si., M.Si.</td>\n",
       "      <td>2022-10-20</td>\n",
       "      <td>2023-08-17 11:00:00</td>\n",
       "      <td>LULUS</td>\n",
       "      <td>2023-08-18</td>\n",
       "    </tr>\n",
       "  </tbody>\n",
       "</table>\n",
       "<p>744 rows × 10 columns</p>\n",
       "</div>"
      ],
      "text/plain": [
       "             nim                             nama             nama_prodi  \\\n",
       "31    4101417001                       Uun Roamah  Pendidikan Matematika   \n",
       "32    4101417002                   Rina Rahmawati  Pendidikan Matematika   \n",
       "33    4101417003                     Risma Andini  Pendidikan Matematika   \n",
       "34    4101417004                        Galuh Ayu  Pendidikan Matematika   \n",
       "35    4101417005                  Oktriviani Dewi  Pendidikan Matematika   \n",
       "...          ...                              ...                    ...   \n",
       "2238  4611417077           YAYAN DWI KRISDIANTORO     Teknik Informatika   \n",
       "2239  4611417078                   QOMARIAH NAJMI     Teknik Informatika   \n",
       "2240  4611417079                     ROFIQUL ANAM     Teknik Informatika   \n",
       "2241  4611417080  MUHAMMAD GHIFARI KHANIF ALHUSNA     Teknik Informatika   \n",
       "2242  4611417081               EKO WAHYU PRASETYO     Teknik Informatika   \n",
       "\n",
       "     jenjang  angkatan                      nama_pembimbing  \\\n",
       "31        S1      2017  Muh. Fajar Safaatullah S.Si., M.Si.   \n",
       "32        S1      2017       Dr. Dra.  Emi Pujiastuti M.Pd.   \n",
       "33        S1      2017     Dra.  Endang Retno Winarti M.Pd.   \n",
       "34        S1      2017                  Dr.  Rochmad M. Si.   \n",
       "35        S1      2017         Dr.  Kristina Wijayanti M.S.   \n",
       "...      ...       ...                                  ...   \n",
       "2238      S1      2017         Budi Prasetiyo S.Si., M.Kom.   \n",
       "2239      S1      2017  Anggyi Trisnawan Putra S.Si., M.Si.   \n",
       "2240      S1      2017          Dr.  Alamsyah S.Si., M.Kom.   \n",
       "2241      S1      2017          Aji Purwinarko S.Si., M.Cs.   \n",
       "2242      S1      2017  Anggyi Trisnawan Putra S.Si., M.Si.   \n",
       "\n",
       "     tanggal_sk_pembimbing tanggal_pelaksanaan_ujian status_lulus  tgl_lulus  \n",
       "31              2021-03-29       2022-08-01 00:00:00        LULUS 2022-08-16  \n",
       "32              2021-06-08       2023-01-16 00:00:00        LULUS 2023-01-27  \n",
       "33              2021-02-15       2022-07-05 00:00:00        LULUS 2022-07-25  \n",
       "34              2020-10-01       2021-03-05 00:00:00        LULUS 2021-03-05  \n",
       "35              2021-03-26       2021-10-14 00:00:00        LULUS 2021-10-29  \n",
       "...                    ...                       ...          ...        ...  \n",
       "2238            2022-04-21                       NaN  BELUM LULUS        NaT  \n",
       "2239            2021-08-03       2021-11-19 00:00:00        LULUS 2021-11-26  \n",
       "2240            2020-11-09                       NaN  BELUM LULUS        NaT  \n",
       "2241            2022-10-25       2023-05-31 09:00:00        LULUS 2023-06-19  \n",
       "2242            2022-10-20       2023-08-17 11:00:00        LULUS 2023-08-18  \n",
       "\n",
       "[744 rows x 10 columns]"
      ]
     },
     "execution_count": 123,
     "metadata": {},
     "output_type": "execute_result"
    }
   ],
   "source": [
    "# drop row in column 'nama_prodi' contain 'Statistika Terapan dan Komputasi\"\n",
    "angkatan17 = angkatan17[angkatan17.nama_prodi != 'Statistika Terapan dan Komputasi']\n",
    "angkatan17"
   ]
  },
  {
   "cell_type": "code",
   "execution_count": 124,
   "metadata": {},
   "outputs": [
    {
     "data": {
      "text/html": [
       "<div>\n",
       "<style scoped>\n",
       "    .dataframe tbody tr th:only-of-type {\n",
       "        vertical-align: middle;\n",
       "    }\n",
       "\n",
       "    .dataframe tbody tr th {\n",
       "        vertical-align: top;\n",
       "    }\n",
       "\n",
       "    .dataframe thead th {\n",
       "        text-align: right;\n",
       "    }\n",
       "</style>\n",
       "<table border=\"1\" class=\"dataframe\">\n",
       "  <thead>\n",
       "    <tr style=\"text-align: right;\">\n",
       "      <th></th>\n",
       "      <th>nim</th>\n",
       "      <th>nama</th>\n",
       "      <th>nama_prodi</th>\n",
       "      <th>jenjang</th>\n",
       "      <th>angkatan</th>\n",
       "      <th>nama_pembimbing</th>\n",
       "      <th>tanggal_sk_pembimbing</th>\n",
       "      <th>tanggal_pelaksanaan_ujian</th>\n",
       "      <th>status_lulus</th>\n",
       "      <th>tgl_lulus</th>\n",
       "    </tr>\n",
       "  </thead>\n",
       "  <tbody>\n",
       "  </tbody>\n",
       "</table>\n",
       "</div>"
      ],
      "text/plain": [
       "Empty DataFrame\n",
       "Columns: [nim, nama, nama_prodi, jenjang, angkatan, nama_pembimbing, tanggal_sk_pembimbing, tanggal_pelaksanaan_ujian, status_lulus, tgl_lulus]\n",
       "Index: []"
      ]
     },
     "execution_count": 124,
     "metadata": {},
     "output_type": "execute_result"
    }
   ],
   "source": [
    "# Menemukan baris dengan nilai null dan status_lulus bukan \"BELUM LULUS\"\n",
    "angkatan17[angkatan17.isnull().any(axis=1) & (angkatan17['status_lulus'] != \"BELUM LULUS\")]"
   ]
  },
  {
   "cell_type": "markdown",
   "metadata": {},
   "source": [
    "## **Persentase Kelulusan**"
   ]
  },
  {
   "cell_type": "code",
   "execution_count": 125,
   "metadata": {},
   "outputs": [
    {
     "data": {
      "text/html": [
       "<div>\n",
       "<style scoped>\n",
       "    .dataframe tbody tr th:only-of-type {\n",
       "        vertical-align: middle;\n",
       "    }\n",
       "\n",
       "    .dataframe tbody tr th {\n",
       "        vertical-align: top;\n",
       "    }\n",
       "\n",
       "    .dataframe thead th {\n",
       "        text-align: right;\n",
       "    }\n",
       "</style>\n",
       "<table border=\"1\" class=\"dataframe\">\n",
       "  <thead>\n",
       "    <tr style=\"text-align: right;\">\n",
       "      <th></th>\n",
       "      <th>nama_prodi</th>\n",
       "      <th>jenjang</th>\n",
       "      <th>angkatan</th>\n",
       "      <th>BELUM LULUS</th>\n",
       "      <th>LULUS</th>\n",
       "    </tr>\n",
       "  </thead>\n",
       "  <tbody>\n",
       "    <tr>\n",
       "      <th>0</th>\n",
       "      <td>Biologi</td>\n",
       "      <td>S1</td>\n",
       "      <td>2017</td>\n",
       "      <td>13</td>\n",
       "      <td>50</td>\n",
       "    </tr>\n",
       "    <tr>\n",
       "      <th>1</th>\n",
       "      <td>Fisika</td>\n",
       "      <td>S1</td>\n",
       "      <td>2017</td>\n",
       "      <td>2</td>\n",
       "      <td>27</td>\n",
       "    </tr>\n",
       "    <tr>\n",
       "      <th>2</th>\n",
       "      <td>Kimia</td>\n",
       "      <td>S1</td>\n",
       "      <td>2017</td>\n",
       "      <td>1</td>\n",
       "      <td>58</td>\n",
       "    </tr>\n",
       "    <tr>\n",
       "      <th>3</th>\n",
       "      <td>Matematika</td>\n",
       "      <td>S1</td>\n",
       "      <td>2017</td>\n",
       "      <td>5</td>\n",
       "      <td>31</td>\n",
       "    </tr>\n",
       "    <tr>\n",
       "      <th>4</th>\n",
       "      <td>Pendidikan Biologi</td>\n",
       "      <td>S1</td>\n",
       "      <td>2017</td>\n",
       "      <td>24</td>\n",
       "      <td>70</td>\n",
       "    </tr>\n",
       "    <tr>\n",
       "      <th>5</th>\n",
       "      <td>Pendidikan Fisika</td>\n",
       "      <td>S1</td>\n",
       "      <td>2017</td>\n",
       "      <td>7</td>\n",
       "      <td>77</td>\n",
       "    </tr>\n",
       "    <tr>\n",
       "      <th>6</th>\n",
       "      <td>Pendidikan Ilmu Pengetahuan Alam</td>\n",
       "      <td>S1</td>\n",
       "      <td>2017</td>\n",
       "      <td>9</td>\n",
       "      <td>65</td>\n",
       "    </tr>\n",
       "    <tr>\n",
       "      <th>7</th>\n",
       "      <td>Pendidikan Kimia</td>\n",
       "      <td>S1</td>\n",
       "      <td>2017</td>\n",
       "      <td>5</td>\n",
       "      <td>66</td>\n",
       "    </tr>\n",
       "    <tr>\n",
       "      <th>8</th>\n",
       "      <td>Pendidikan Matematika</td>\n",
       "      <td>S1</td>\n",
       "      <td>2017</td>\n",
       "      <td>36</td>\n",
       "      <td>134</td>\n",
       "    </tr>\n",
       "    <tr>\n",
       "      <th>9</th>\n",
       "      <td>Teknik Informatika</td>\n",
       "      <td>S1</td>\n",
       "      <td>2017</td>\n",
       "      <td>17</td>\n",
       "      <td>47</td>\n",
       "    </tr>\n",
       "  </tbody>\n",
       "</table>\n",
       "</div>"
      ],
      "text/plain": [
       "                         nama_prodi jenjang  angkatan  BELUM LULUS  LULUS\n",
       "0                           Biologi      S1      2017           13     50\n",
       "1                            Fisika      S1      2017            2     27\n",
       "2                             Kimia      S1      2017            1     58\n",
       "3                        Matematika      S1      2017            5     31\n",
       "4                Pendidikan Biologi      S1      2017           24     70\n",
       "5                 Pendidikan Fisika      S1      2017            7     77\n",
       "6  Pendidikan Ilmu Pengetahuan Alam      S1      2017            9     65\n",
       "7                  Pendidikan Kimia      S1      2017            5     66\n",
       "8             Pendidikan Matematika      S1      2017           36    134\n",
       "9                Teknik Informatika      S1      2017           17     47"
      ]
     },
     "execution_count": 125,
     "metadata": {},
     "output_type": "execute_result"
    }
   ],
   "source": [
    "grouped_data = angkatan17.groupby(['nama_prodi', 'jenjang', 'angkatan', 'status_lulus']).size().reset_index(name='jumlah')\n",
    "pivot_table = grouped_data.pivot(index=['nama_prodi', 'jenjang', 'angkatan'], columns='status_lulus', values='jumlah').reset_index()\n",
    "pivot_table = pivot_table.rename_axis(None, axis=1)\n",
    "pivot_table = pivot_table.rename(columns={'Sudah Lulus': 'sudah_lulus', 'Belum Lulus': 'belum_lulus'})\n",
    "pivot_table"
   ]
  },
  {
   "cell_type": "code",
   "execution_count": 126,
   "metadata": {},
   "outputs": [],
   "source": [
    "# make new column called 'persentase' which value is lulus/lulus+belum lulus * 100\n",
    "pivot_table['persentase'] = pivot_table['LULUS'] / (pivot_table['LULUS'] + pivot_table['BELUM LULUS']) * 100\n",
    "pivot_table['persentase'] = pivot_table['persentase'].round(2)"
   ]
  },
  {
   "cell_type": "code",
   "execution_count": 127,
   "metadata": {},
   "outputs": [
    {
     "data": {
      "text/html": [
       "<div>\n",
       "<style scoped>\n",
       "    .dataframe tbody tr th:only-of-type {\n",
       "        vertical-align: middle;\n",
       "    }\n",
       "\n",
       "    .dataframe tbody tr th {\n",
       "        vertical-align: top;\n",
       "    }\n",
       "\n",
       "    .dataframe thead th {\n",
       "        text-align: right;\n",
       "    }\n",
       "</style>\n",
       "<table border=\"1\" class=\"dataframe\">\n",
       "  <thead>\n",
       "    <tr style=\"text-align: right;\">\n",
       "      <th></th>\n",
       "      <th>nama_prodi</th>\n",
       "      <th>jenjang</th>\n",
       "      <th>angkatan</th>\n",
       "      <th>BELUM LULUS</th>\n",
       "      <th>LULUS</th>\n",
       "      <th>persentase</th>\n",
       "    </tr>\n",
       "  </thead>\n",
       "  <tbody>\n",
       "    <tr>\n",
       "      <th>0</th>\n",
       "      <td>Biologi</td>\n",
       "      <td>S1</td>\n",
       "      <td>2017</td>\n",
       "      <td>13</td>\n",
       "      <td>50</td>\n",
       "      <td>79.37</td>\n",
       "    </tr>\n",
       "    <tr>\n",
       "      <th>1</th>\n",
       "      <td>Fisika</td>\n",
       "      <td>S1</td>\n",
       "      <td>2017</td>\n",
       "      <td>2</td>\n",
       "      <td>27</td>\n",
       "      <td>93.10</td>\n",
       "    </tr>\n",
       "    <tr>\n",
       "      <th>2</th>\n",
       "      <td>Kimia</td>\n",
       "      <td>S1</td>\n",
       "      <td>2017</td>\n",
       "      <td>1</td>\n",
       "      <td>58</td>\n",
       "      <td>98.31</td>\n",
       "    </tr>\n",
       "    <tr>\n",
       "      <th>3</th>\n",
       "      <td>Matematika</td>\n",
       "      <td>S1</td>\n",
       "      <td>2017</td>\n",
       "      <td>5</td>\n",
       "      <td>31</td>\n",
       "      <td>86.11</td>\n",
       "    </tr>\n",
       "    <tr>\n",
       "      <th>4</th>\n",
       "      <td>Pendidikan Biologi</td>\n",
       "      <td>S1</td>\n",
       "      <td>2017</td>\n",
       "      <td>24</td>\n",
       "      <td>70</td>\n",
       "      <td>74.47</td>\n",
       "    </tr>\n",
       "    <tr>\n",
       "      <th>5</th>\n",
       "      <td>Pendidikan Fisika</td>\n",
       "      <td>S1</td>\n",
       "      <td>2017</td>\n",
       "      <td>7</td>\n",
       "      <td>77</td>\n",
       "      <td>91.67</td>\n",
       "    </tr>\n",
       "    <tr>\n",
       "      <th>6</th>\n",
       "      <td>Pendidikan Ilmu Pengetahuan Alam</td>\n",
       "      <td>S1</td>\n",
       "      <td>2017</td>\n",
       "      <td>9</td>\n",
       "      <td>65</td>\n",
       "      <td>87.84</td>\n",
       "    </tr>\n",
       "    <tr>\n",
       "      <th>7</th>\n",
       "      <td>Pendidikan Kimia</td>\n",
       "      <td>S1</td>\n",
       "      <td>2017</td>\n",
       "      <td>5</td>\n",
       "      <td>66</td>\n",
       "      <td>92.96</td>\n",
       "    </tr>\n",
       "    <tr>\n",
       "      <th>8</th>\n",
       "      <td>Pendidikan Matematika</td>\n",
       "      <td>S1</td>\n",
       "      <td>2017</td>\n",
       "      <td>36</td>\n",
       "      <td>134</td>\n",
       "      <td>78.82</td>\n",
       "    </tr>\n",
       "    <tr>\n",
       "      <th>9</th>\n",
       "      <td>Teknik Informatika</td>\n",
       "      <td>S1</td>\n",
       "      <td>2017</td>\n",
       "      <td>17</td>\n",
       "      <td>47</td>\n",
       "      <td>73.44</td>\n",
       "    </tr>\n",
       "  </tbody>\n",
       "</table>\n",
       "</div>"
      ],
      "text/plain": [
       "                         nama_prodi jenjang  angkatan  BELUM LULUS  LULUS  \\\n",
       "0                           Biologi      S1      2017           13     50   \n",
       "1                            Fisika      S1      2017            2     27   \n",
       "2                             Kimia      S1      2017            1     58   \n",
       "3                        Matematika      S1      2017            5     31   \n",
       "4                Pendidikan Biologi      S1      2017           24     70   \n",
       "5                 Pendidikan Fisika      S1      2017            7     77   \n",
       "6  Pendidikan Ilmu Pengetahuan Alam      S1      2017            9     65   \n",
       "7                  Pendidikan Kimia      S1      2017            5     66   \n",
       "8             Pendidikan Matematika      S1      2017           36    134   \n",
       "9                Teknik Informatika      S1      2017           17     47   \n",
       "\n",
       "   persentase  \n",
       "0       79.37  \n",
       "1       93.10  \n",
       "2       98.31  \n",
       "3       86.11  \n",
       "4       74.47  \n",
       "5       91.67  \n",
       "6       87.84  \n",
       "7       92.96  \n",
       "8       78.82  \n",
       "9       73.44  "
      ]
     },
     "execution_count": 127,
     "metadata": {},
     "output_type": "execute_result"
    }
   ],
   "source": [
    "pivot_table"
   ]
  },
  {
   "cell_type": "markdown",
   "metadata": {},
   "source": [
    "# **Tahun 2018**"
   ]
  },
  {
   "cell_type": "code",
   "execution_count": 128,
   "metadata": {},
   "outputs": [
    {
     "data": {
      "text/html": [
       "<div>\n",
       "<style scoped>\n",
       "    .dataframe tbody tr th:only-of-type {\n",
       "        vertical-align: middle;\n",
       "    }\n",
       "\n",
       "    .dataframe tbody tr th {\n",
       "        vertical-align: top;\n",
       "    }\n",
       "\n",
       "    .dataframe thead th {\n",
       "        text-align: right;\n",
       "    }\n",
       "</style>\n",
       "<table border=\"1\" class=\"dataframe\">\n",
       "  <thead>\n",
       "    <tr style=\"text-align: right;\">\n",
       "      <th></th>\n",
       "      <th>nim</th>\n",
       "      <th>nama</th>\n",
       "      <th>nama_prodi</th>\n",
       "      <th>jenjang</th>\n",
       "      <th>angkatan</th>\n",
       "      <th>nama_pembimbing</th>\n",
       "      <th>tanggal_sk_pembimbing</th>\n",
       "      <th>tanggal_pelaksanaan_ujian</th>\n",
       "      <th>status_lulus</th>\n",
       "      <th>tgl_lulus</th>\n",
       "    </tr>\n",
       "  </thead>\n",
       "  <tbody>\n",
       "    <tr>\n",
       "      <th>1</th>\n",
       "      <td>4112318001</td>\n",
       "      <td>DHAMA SEKAR OKTAFANI</td>\n",
       "      <td>Statistika Terapan dan Komputasi</td>\n",
       "      <td>D3</td>\n",
       "      <td>2018</td>\n",
       "      <td>Dr.  Iqbal Kharisudin M.Sc.</td>\n",
       "      <td>2022-07-08</td>\n",
       "      <td>2023-07-21 08:10:00</td>\n",
       "      <td>LULUS</td>\n",
       "      <td>2023-07-21</td>\n",
       "    </tr>\n",
       "    <tr>\n",
       "      <th>2</th>\n",
       "      <td>4112318007</td>\n",
       "      <td>RANI WIDYANINGRUM</td>\n",
       "      <td>Statistika Terapan dan Komputasi</td>\n",
       "      <td>D3</td>\n",
       "      <td>2018</td>\n",
       "      <td>Prof. Dr. rer.nat.  YL Sukestiyarno M.S.</td>\n",
       "      <td>2022-08-15</td>\n",
       "      <td>2023-08-10 08:00:00</td>\n",
       "      <td>LULUS</td>\n",
       "      <td>2023-08-10</td>\n",
       "    </tr>\n",
       "    <tr>\n",
       "      <th>3</th>\n",
       "      <td>4112318009</td>\n",
       "      <td>ENDAH SRI WAHYUNI</td>\n",
       "      <td>Statistika Terapan dan Komputasi</td>\n",
       "      <td>D3</td>\n",
       "      <td>2018</td>\n",
       "      <td>Dr.  Iqbal Kharisudin M.Sc.</td>\n",
       "      <td>2023-02-07</td>\n",
       "      <td>2023-08-15 10:00:00</td>\n",
       "      <td>LULUS</td>\n",
       "      <td>2023-08-15</td>\n",
       "    </tr>\n",
       "    <tr>\n",
       "      <th>4</th>\n",
       "      <td>4112318015</td>\n",
       "      <td>BERTI SUHARYANI</td>\n",
       "      <td>Statistika Terapan dan Komputasi</td>\n",
       "      <td>D3</td>\n",
       "      <td>2018</td>\n",
       "      <td>Dr.  Scolastika Mariani M.Si.</td>\n",
       "      <td>2023-02-17</td>\n",
       "      <td>2023-07-21 10:00:00</td>\n",
       "      <td>LULUS</td>\n",
       "      <td>2023-08-16</td>\n",
       "    </tr>\n",
       "    <tr>\n",
       "      <th>5</th>\n",
       "      <td>4112318016</td>\n",
       "      <td>MUHAMMAD IRSYADUL AZIZ</td>\n",
       "      <td>Statistika Terapan dan Komputasi</td>\n",
       "      <td>D3</td>\n",
       "      <td>2018</td>\n",
       "      <td>Dr.  Iqbal Kharisudin M.Sc.</td>\n",
       "      <td>2022-11-04</td>\n",
       "      <td>2023-08-16 13:00:00</td>\n",
       "      <td>LULUS</td>\n",
       "      <td>2023-08-16</td>\n",
       "    </tr>\n",
       "    <tr>\n",
       "      <th>...</th>\n",
       "      <td>...</td>\n",
       "      <td>...</td>\n",
       "      <td>...</td>\n",
       "      <td>...</td>\n",
       "      <td>...</td>\n",
       "      <td>...</td>\n",
       "      <td>...</td>\n",
       "      <td>...</td>\n",
       "      <td>...</td>\n",
       "      <td>...</td>\n",
       "    </tr>\n",
       "    <tr>\n",
       "      <th>2391</th>\n",
       "      <td>4612418034</td>\n",
       "      <td>CHYNTIA EKA PUTRI</td>\n",
       "      <td>Sistem Informasi</td>\n",
       "      <td>S1</td>\n",
       "      <td>2018</td>\n",
       "      <td>Zaenal Abidin S.Si., M.Cs., Ph.D.</td>\n",
       "      <td>2022-10-25</td>\n",
       "      <td>NaN</td>\n",
       "      <td>BELUM LULUS</td>\n",
       "      <td>NaT</td>\n",
       "    </tr>\n",
       "    <tr>\n",
       "      <th>2392</th>\n",
       "      <td>4612418035</td>\n",
       "      <td>MUHAMAD IQBAL NUUR AR RASYID</td>\n",
       "      <td>Sistem Informasi</td>\n",
       "      <td>S1</td>\n",
       "      <td>2018</td>\n",
       "      <td>Endang Sugiharti S.Si., M.Kom.</td>\n",
       "      <td>2023-01-20</td>\n",
       "      <td>2023-03-16 10:00:00</td>\n",
       "      <td>LULUS</td>\n",
       "      <td>2023-06-07</td>\n",
       "    </tr>\n",
       "    <tr>\n",
       "      <th>2393</th>\n",
       "      <td>4612418037</td>\n",
       "      <td>MUHAMMAD LINTANG ANUGRAH HANA PUTRA</td>\n",
       "      <td>Sistem Informasi</td>\n",
       "      <td>S1</td>\n",
       "      <td>2018</td>\n",
       "      <td>Zaenal Abidin S.Si., M.Cs., Ph.D.</td>\n",
       "      <td>2022-06-21</td>\n",
       "      <td>NaN</td>\n",
       "      <td>BELUM LULUS</td>\n",
       "      <td>NaT</td>\n",
       "    </tr>\n",
       "    <tr>\n",
       "      <th>2394</th>\n",
       "      <td>4612418039</td>\n",
       "      <td>FREDY KUSUMA NELLY</td>\n",
       "      <td>Sistem Informasi</td>\n",
       "      <td>S1</td>\n",
       "      <td>2018</td>\n",
       "      <td>Budi Prasetiyo S.Si., M.Kom.</td>\n",
       "      <td>2022-09-27</td>\n",
       "      <td>2023-03-09 10:00:00</td>\n",
       "      <td>LULUS</td>\n",
       "      <td>2023-03-16</td>\n",
       "    </tr>\n",
       "    <tr>\n",
       "      <th>2395</th>\n",
       "      <td>4612418040</td>\n",
       "      <td>TIFFANY OVILIA DWI LESTARI</td>\n",
       "      <td>Sistem Informasi</td>\n",
       "      <td>S1</td>\n",
       "      <td>2018</td>\n",
       "      <td>Endang Sugiharti S.Si., M.Kom.</td>\n",
       "      <td>2023-02-03</td>\n",
       "      <td>NaN</td>\n",
       "      <td>BELUM LULUS</td>\n",
       "      <td>NaT</td>\n",
       "    </tr>\n",
       "  </tbody>\n",
       "</table>\n",
       "<p>842 rows × 10 columns</p>\n",
       "</div>"
      ],
      "text/plain": [
       "             nim                                 nama  \\\n",
       "1     4112318001                 DHAMA SEKAR OKTAFANI   \n",
       "2     4112318007                    RANI WIDYANINGRUM   \n",
       "3     4112318009                    ENDAH SRI WAHYUNI   \n",
       "4     4112318015                      BERTI SUHARYANI   \n",
       "5     4112318016               MUHAMMAD IRSYADUL AZIZ   \n",
       "...          ...                                  ...   \n",
       "2391  4612418034                    CHYNTIA EKA PUTRI   \n",
       "2392  4612418035         MUHAMAD IQBAL NUUR AR RASYID   \n",
       "2393  4612418037  MUHAMMAD LINTANG ANUGRAH HANA PUTRA   \n",
       "2394  4612418039                   FREDY KUSUMA NELLY   \n",
       "2395  4612418040           TIFFANY OVILIA DWI LESTARI   \n",
       "\n",
       "                            nama_prodi jenjang  angkatan  \\\n",
       "1     Statistika Terapan dan Komputasi      D3      2018   \n",
       "2     Statistika Terapan dan Komputasi      D3      2018   \n",
       "3     Statistika Terapan dan Komputasi      D3      2018   \n",
       "4     Statistika Terapan dan Komputasi      D3      2018   \n",
       "5     Statistika Terapan dan Komputasi      D3      2018   \n",
       "...                                ...     ...       ...   \n",
       "2391                  Sistem Informasi      S1      2018   \n",
       "2392                  Sistem Informasi      S1      2018   \n",
       "2393                  Sistem Informasi      S1      2018   \n",
       "2394                  Sistem Informasi      S1      2018   \n",
       "2395                  Sistem Informasi      S1      2018   \n",
       "\n",
       "                               nama_pembimbing tanggal_sk_pembimbing  \\\n",
       "1                  Dr.  Iqbal Kharisudin M.Sc.            2022-07-08   \n",
       "2     Prof. Dr. rer.nat.  YL Sukestiyarno M.S.            2022-08-15   \n",
       "3                  Dr.  Iqbal Kharisudin M.Sc.            2023-02-07   \n",
       "4                Dr.  Scolastika Mariani M.Si.            2023-02-17   \n",
       "5                  Dr.  Iqbal Kharisudin M.Sc.            2022-11-04   \n",
       "...                                        ...                   ...   \n",
       "2391         Zaenal Abidin S.Si., M.Cs., Ph.D.            2022-10-25   \n",
       "2392            Endang Sugiharti S.Si., M.Kom.            2023-01-20   \n",
       "2393         Zaenal Abidin S.Si., M.Cs., Ph.D.            2022-06-21   \n",
       "2394              Budi Prasetiyo S.Si., M.Kom.            2022-09-27   \n",
       "2395            Endang Sugiharti S.Si., M.Kom.            2023-02-03   \n",
       "\n",
       "     tanggal_pelaksanaan_ujian status_lulus  tgl_lulus  \n",
       "1          2023-07-21 08:10:00        LULUS 2023-07-21  \n",
       "2          2023-08-10 08:00:00        LULUS 2023-08-10  \n",
       "3          2023-08-15 10:00:00        LULUS 2023-08-15  \n",
       "4          2023-07-21 10:00:00        LULUS 2023-08-16  \n",
       "5          2023-08-16 13:00:00        LULUS 2023-08-16  \n",
       "...                        ...          ...        ...  \n",
       "2391                       NaN  BELUM LULUS        NaT  \n",
       "2392       2023-03-16 10:00:00        LULUS 2023-06-07  \n",
       "2393                       NaN  BELUM LULUS        NaT  \n",
       "2394       2023-03-09 10:00:00        LULUS 2023-03-16  \n",
       "2395                       NaN  BELUM LULUS        NaT  \n",
       "\n",
       "[842 rows x 10 columns]"
      ]
     },
     "execution_count": 128,
     "metadata": {},
     "output_type": "execute_result"
    }
   ],
   "source": [
    "angkatan18 = raw_df.loc[raw_df['angkatan'] == 2018]\n",
    "angkatan18"
   ]
  },
  {
   "cell_type": "code",
   "execution_count": 129,
   "metadata": {},
   "outputs": [
    {
     "data": {
      "text/html": [
       "<div>\n",
       "<style scoped>\n",
       "    .dataframe tbody tr th:only-of-type {\n",
       "        vertical-align: middle;\n",
       "    }\n",
       "\n",
       "    .dataframe tbody tr th {\n",
       "        vertical-align: top;\n",
       "    }\n",
       "\n",
       "    .dataframe thead th {\n",
       "        text-align: right;\n",
       "    }\n",
       "</style>\n",
       "<table border=\"1\" class=\"dataframe\">\n",
       "  <thead>\n",
       "    <tr style=\"text-align: right;\">\n",
       "      <th></th>\n",
       "      <th>nama_prodi</th>\n",
       "      <th>status_lulus</th>\n",
       "      <th>jumlah</th>\n",
       "    </tr>\n",
       "  </thead>\n",
       "  <tbody>\n",
       "    <tr>\n",
       "      <th>0</th>\n",
       "      <td>Biologi</td>\n",
       "      <td>BELUM LULUS</td>\n",
       "      <td>17</td>\n",
       "    </tr>\n",
       "    <tr>\n",
       "      <th>1</th>\n",
       "      <td>Biologi</td>\n",
       "      <td>LULUS</td>\n",
       "      <td>52</td>\n",
       "    </tr>\n",
       "    <tr>\n",
       "      <th>2</th>\n",
       "      <td>Fisika</td>\n",
       "      <td>BELUM LULUS</td>\n",
       "      <td>9</td>\n",
       "    </tr>\n",
       "    <tr>\n",
       "      <th>3</th>\n",
       "      <td>Fisika</td>\n",
       "      <td>LULUS</td>\n",
       "      <td>38</td>\n",
       "    </tr>\n",
       "    <tr>\n",
       "      <th>4</th>\n",
       "      <td>Kimia</td>\n",
       "      <td>BELUM LULUS</td>\n",
       "      <td>8</td>\n",
       "    </tr>\n",
       "    <tr>\n",
       "      <th>5</th>\n",
       "      <td>Kimia</td>\n",
       "      <td>LULUS</td>\n",
       "      <td>50</td>\n",
       "    </tr>\n",
       "    <tr>\n",
       "      <th>6</th>\n",
       "      <td>Matematika</td>\n",
       "      <td>BELUM LULUS</td>\n",
       "      <td>11</td>\n",
       "    </tr>\n",
       "    <tr>\n",
       "      <th>7</th>\n",
       "      <td>Matematika</td>\n",
       "      <td>LULUS</td>\n",
       "      <td>24</td>\n",
       "    </tr>\n",
       "    <tr>\n",
       "      <th>8</th>\n",
       "      <td>Pendidikan Biologi</td>\n",
       "      <td>BELUM LULUS</td>\n",
       "      <td>21</td>\n",
       "    </tr>\n",
       "    <tr>\n",
       "      <th>9</th>\n",
       "      <td>Pendidikan Biologi</td>\n",
       "      <td>LULUS</td>\n",
       "      <td>70</td>\n",
       "    </tr>\n",
       "    <tr>\n",
       "      <th>10</th>\n",
       "      <td>Pendidikan Fisika</td>\n",
       "      <td>BELUM LULUS</td>\n",
       "      <td>22</td>\n",
       "    </tr>\n",
       "    <tr>\n",
       "      <th>11</th>\n",
       "      <td>Pendidikan Fisika</td>\n",
       "      <td>LULUS</td>\n",
       "      <td>60</td>\n",
       "    </tr>\n",
       "    <tr>\n",
       "      <th>12</th>\n",
       "      <td>Pendidikan Ilmu Pengetahuan Alam</td>\n",
       "      <td>BELUM LULUS</td>\n",
       "      <td>12</td>\n",
       "    </tr>\n",
       "    <tr>\n",
       "      <th>13</th>\n",
       "      <td>Pendidikan Ilmu Pengetahuan Alam</td>\n",
       "      <td>LULUS</td>\n",
       "      <td>60</td>\n",
       "    </tr>\n",
       "    <tr>\n",
       "      <th>14</th>\n",
       "      <td>Pendidikan Kimia</td>\n",
       "      <td>BELUM LULUS</td>\n",
       "      <td>13</td>\n",
       "    </tr>\n",
       "    <tr>\n",
       "      <th>15</th>\n",
       "      <td>Pendidikan Kimia</td>\n",
       "      <td>LULUS</td>\n",
       "      <td>77</td>\n",
       "    </tr>\n",
       "    <tr>\n",
       "      <th>16</th>\n",
       "      <td>Pendidikan Matematika</td>\n",
       "      <td>BELUM LULUS</td>\n",
       "      <td>51</td>\n",
       "    </tr>\n",
       "    <tr>\n",
       "      <th>17</th>\n",
       "      <td>Pendidikan Matematika</td>\n",
       "      <td>LULUS</td>\n",
       "      <td>147</td>\n",
       "    </tr>\n",
       "    <tr>\n",
       "      <th>18</th>\n",
       "      <td>Sistem Informasi</td>\n",
       "      <td>BELUM LULUS</td>\n",
       "      <td>9</td>\n",
       "    </tr>\n",
       "    <tr>\n",
       "      <th>19</th>\n",
       "      <td>Sistem Informasi</td>\n",
       "      <td>LULUS</td>\n",
       "      <td>22</td>\n",
       "    </tr>\n",
       "    <tr>\n",
       "      <th>20</th>\n",
       "      <td>Statistika Terapan dan Komputasi</td>\n",
       "      <td>BELUM LULUS</td>\n",
       "      <td>1</td>\n",
       "    </tr>\n",
       "    <tr>\n",
       "      <th>21</th>\n",
       "      <td>Statistika Terapan dan Komputasi</td>\n",
       "      <td>LULUS</td>\n",
       "      <td>7</td>\n",
       "    </tr>\n",
       "    <tr>\n",
       "      <th>22</th>\n",
       "      <td>Teknik Informatika</td>\n",
       "      <td>BELUM LULUS</td>\n",
       "      <td>19</td>\n",
       "    </tr>\n",
       "    <tr>\n",
       "      <th>23</th>\n",
       "      <td>Teknik Informatika</td>\n",
       "      <td>LULUS</td>\n",
       "      <td>42</td>\n",
       "    </tr>\n",
       "  </tbody>\n",
       "</table>\n",
       "</div>"
      ],
      "text/plain": [
       "                          nama_prodi status_lulus  jumlah\n",
       "0                            Biologi  BELUM LULUS      17\n",
       "1                            Biologi        LULUS      52\n",
       "2                             Fisika  BELUM LULUS       9\n",
       "3                             Fisika        LULUS      38\n",
       "4                              Kimia  BELUM LULUS       8\n",
       "5                              Kimia        LULUS      50\n",
       "6                         Matematika  BELUM LULUS      11\n",
       "7                         Matematika        LULUS      24\n",
       "8                 Pendidikan Biologi  BELUM LULUS      21\n",
       "9                 Pendidikan Biologi        LULUS      70\n",
       "10                 Pendidikan Fisika  BELUM LULUS      22\n",
       "11                 Pendidikan Fisika        LULUS      60\n",
       "12  Pendidikan Ilmu Pengetahuan Alam  BELUM LULUS      12\n",
       "13  Pendidikan Ilmu Pengetahuan Alam        LULUS      60\n",
       "14                  Pendidikan Kimia  BELUM LULUS      13\n",
       "15                  Pendidikan Kimia        LULUS      77\n",
       "16             Pendidikan Matematika  BELUM LULUS      51\n",
       "17             Pendidikan Matematika        LULUS     147\n",
       "18                  Sistem Informasi  BELUM LULUS       9\n",
       "19                  Sistem Informasi        LULUS      22\n",
       "20  Statistika Terapan dan Komputasi  BELUM LULUS       1\n",
       "21  Statistika Terapan dan Komputasi        LULUS       7\n",
       "22                Teknik Informatika  BELUM LULUS      19\n",
       "23                Teknik Informatika        LULUS      42"
      ]
     },
     "execution_count": 129,
     "metadata": {},
     "output_type": "execute_result"
    }
   ],
   "source": [
    "angkatan18.groupby(['nama_prodi','status_lulus']).size().reset_index(name='jumlah')"
   ]
  },
  {
   "cell_type": "code",
   "execution_count": 130,
   "metadata": {},
   "outputs": [
    {
     "data": {
      "application/vnd.plotly.v1+json": {
       "config": {
        "plotlyServerURL": "https://plot.ly"
       },
       "data": [
        {
         "alignmentgroup": "True",
         "hovertemplate": "status_lulus=BELUM LULUS<br>nama_prodi=%{x}<br>jumlah Mahasiswa=%{text}<extra></extra>",
         "legendgroup": "BELUM LULUS",
         "marker": {
          "color": "#636efa",
          "pattern": {
           "shape": ""
          }
         },
         "name": "BELUM LULUS",
         "offsetgroup": "BELUM LULUS",
         "orientation": "v",
         "showlegend": true,
         "text": [
          17,
          9,
          8,
          11,
          21,
          22,
          12,
          13,
          51,
          9,
          1,
          19
         ],
         "textposition": "auto",
         "type": "bar",
         "x": [
          "Biologi",
          "Fisika",
          "Kimia",
          "Matematika",
          "Pendidikan Biologi",
          "Pendidikan Fisika",
          "Pendidikan Ilmu Pengetahuan Alam",
          "Pendidikan Kimia",
          "Pendidikan Matematika",
          "Sistem Informasi",
          "Statistika Terapan dan Komputasi",
          "Teknik Informatika"
         ],
         "xaxis": "x",
         "y": [
          17,
          9,
          8,
          11,
          21,
          22,
          12,
          13,
          51,
          9,
          1,
          19
         ],
         "yaxis": "y"
        },
        {
         "alignmentgroup": "True",
         "hovertemplate": "status_lulus=LULUS<br>nama_prodi=%{x}<br>jumlah Mahasiswa=%{text}<extra></extra>",
         "legendgroup": "LULUS",
         "marker": {
          "color": "#EF553B",
          "pattern": {
           "shape": ""
          }
         },
         "name": "LULUS",
         "offsetgroup": "LULUS",
         "orientation": "v",
         "showlegend": true,
         "text": [
          52,
          38,
          50,
          24,
          70,
          60,
          60,
          77,
          147,
          22,
          7,
          42
         ],
         "textposition": "auto",
         "type": "bar",
         "x": [
          "Biologi",
          "Fisika",
          "Kimia",
          "Matematika",
          "Pendidikan Biologi",
          "Pendidikan Fisika",
          "Pendidikan Ilmu Pengetahuan Alam",
          "Pendidikan Kimia",
          "Pendidikan Matematika",
          "Sistem Informasi",
          "Statistika Terapan dan Komputasi",
          "Teknik Informatika"
         ],
         "xaxis": "x",
         "y": [
          52,
          38,
          50,
          24,
          70,
          60,
          60,
          77,
          147,
          22,
          7,
          42
         ],
         "yaxis": "y"
        }
       ],
       "layout": {
        "barmode": "group",
        "legend": {
         "title": {
          "text": "status_lulus"
         },
         "tracegroupgap": 0
        },
        "template": {
         "data": {
          "bar": [
           {
            "error_x": {
             "color": "#2a3f5f"
            },
            "error_y": {
             "color": "#2a3f5f"
            },
            "marker": {
             "line": {
              "color": "#E5ECF6",
              "width": 0.5
             },
             "pattern": {
              "fillmode": "overlay",
              "size": 10,
              "solidity": 0.2
             }
            },
            "type": "bar"
           }
          ],
          "barpolar": [
           {
            "marker": {
             "line": {
              "color": "#E5ECF6",
              "width": 0.5
             },
             "pattern": {
              "fillmode": "overlay",
              "size": 10,
              "solidity": 0.2
             }
            },
            "type": "barpolar"
           }
          ],
          "carpet": [
           {
            "aaxis": {
             "endlinecolor": "#2a3f5f",
             "gridcolor": "white",
             "linecolor": "white",
             "minorgridcolor": "white",
             "startlinecolor": "#2a3f5f"
            },
            "baxis": {
             "endlinecolor": "#2a3f5f",
             "gridcolor": "white",
             "linecolor": "white",
             "minorgridcolor": "white",
             "startlinecolor": "#2a3f5f"
            },
            "type": "carpet"
           }
          ],
          "choropleth": [
           {
            "colorbar": {
             "outlinewidth": 0,
             "ticks": ""
            },
            "type": "choropleth"
           }
          ],
          "contour": [
           {
            "colorbar": {
             "outlinewidth": 0,
             "ticks": ""
            },
            "colorscale": [
             [
              0,
              "#0d0887"
             ],
             [
              0.1111111111111111,
              "#46039f"
             ],
             [
              0.2222222222222222,
              "#7201a8"
             ],
             [
              0.3333333333333333,
              "#9c179e"
             ],
             [
              0.4444444444444444,
              "#bd3786"
             ],
             [
              0.5555555555555556,
              "#d8576b"
             ],
             [
              0.6666666666666666,
              "#ed7953"
             ],
             [
              0.7777777777777778,
              "#fb9f3a"
             ],
             [
              0.8888888888888888,
              "#fdca26"
             ],
             [
              1,
              "#f0f921"
             ]
            ],
            "type": "contour"
           }
          ],
          "contourcarpet": [
           {
            "colorbar": {
             "outlinewidth": 0,
             "ticks": ""
            },
            "type": "contourcarpet"
           }
          ],
          "heatmap": [
           {
            "colorbar": {
             "outlinewidth": 0,
             "ticks": ""
            },
            "colorscale": [
             [
              0,
              "#0d0887"
             ],
             [
              0.1111111111111111,
              "#46039f"
             ],
             [
              0.2222222222222222,
              "#7201a8"
             ],
             [
              0.3333333333333333,
              "#9c179e"
             ],
             [
              0.4444444444444444,
              "#bd3786"
             ],
             [
              0.5555555555555556,
              "#d8576b"
             ],
             [
              0.6666666666666666,
              "#ed7953"
             ],
             [
              0.7777777777777778,
              "#fb9f3a"
             ],
             [
              0.8888888888888888,
              "#fdca26"
             ],
             [
              1,
              "#f0f921"
             ]
            ],
            "type": "heatmap"
           }
          ],
          "heatmapgl": [
           {
            "colorbar": {
             "outlinewidth": 0,
             "ticks": ""
            },
            "colorscale": [
             [
              0,
              "#0d0887"
             ],
             [
              0.1111111111111111,
              "#46039f"
             ],
             [
              0.2222222222222222,
              "#7201a8"
             ],
             [
              0.3333333333333333,
              "#9c179e"
             ],
             [
              0.4444444444444444,
              "#bd3786"
             ],
             [
              0.5555555555555556,
              "#d8576b"
             ],
             [
              0.6666666666666666,
              "#ed7953"
             ],
             [
              0.7777777777777778,
              "#fb9f3a"
             ],
             [
              0.8888888888888888,
              "#fdca26"
             ],
             [
              1,
              "#f0f921"
             ]
            ],
            "type": "heatmapgl"
           }
          ],
          "histogram": [
           {
            "marker": {
             "pattern": {
              "fillmode": "overlay",
              "size": 10,
              "solidity": 0.2
             }
            },
            "type": "histogram"
           }
          ],
          "histogram2d": [
           {
            "colorbar": {
             "outlinewidth": 0,
             "ticks": ""
            },
            "colorscale": [
             [
              0,
              "#0d0887"
             ],
             [
              0.1111111111111111,
              "#46039f"
             ],
             [
              0.2222222222222222,
              "#7201a8"
             ],
             [
              0.3333333333333333,
              "#9c179e"
             ],
             [
              0.4444444444444444,
              "#bd3786"
             ],
             [
              0.5555555555555556,
              "#d8576b"
             ],
             [
              0.6666666666666666,
              "#ed7953"
             ],
             [
              0.7777777777777778,
              "#fb9f3a"
             ],
             [
              0.8888888888888888,
              "#fdca26"
             ],
             [
              1,
              "#f0f921"
             ]
            ],
            "type": "histogram2d"
           }
          ],
          "histogram2dcontour": [
           {
            "colorbar": {
             "outlinewidth": 0,
             "ticks": ""
            },
            "colorscale": [
             [
              0,
              "#0d0887"
             ],
             [
              0.1111111111111111,
              "#46039f"
             ],
             [
              0.2222222222222222,
              "#7201a8"
             ],
             [
              0.3333333333333333,
              "#9c179e"
             ],
             [
              0.4444444444444444,
              "#bd3786"
             ],
             [
              0.5555555555555556,
              "#d8576b"
             ],
             [
              0.6666666666666666,
              "#ed7953"
             ],
             [
              0.7777777777777778,
              "#fb9f3a"
             ],
             [
              0.8888888888888888,
              "#fdca26"
             ],
             [
              1,
              "#f0f921"
             ]
            ],
            "type": "histogram2dcontour"
           }
          ],
          "mesh3d": [
           {
            "colorbar": {
             "outlinewidth": 0,
             "ticks": ""
            },
            "type": "mesh3d"
           }
          ],
          "parcoords": [
           {
            "line": {
             "colorbar": {
              "outlinewidth": 0,
              "ticks": ""
             }
            },
            "type": "parcoords"
           }
          ],
          "pie": [
           {
            "automargin": true,
            "type": "pie"
           }
          ],
          "scatter": [
           {
            "fillpattern": {
             "fillmode": "overlay",
             "size": 10,
             "solidity": 0.2
            },
            "type": "scatter"
           }
          ],
          "scatter3d": [
           {
            "line": {
             "colorbar": {
              "outlinewidth": 0,
              "ticks": ""
             }
            },
            "marker": {
             "colorbar": {
              "outlinewidth": 0,
              "ticks": ""
             }
            },
            "type": "scatter3d"
           }
          ],
          "scattercarpet": [
           {
            "marker": {
             "colorbar": {
              "outlinewidth": 0,
              "ticks": ""
             }
            },
            "type": "scattercarpet"
           }
          ],
          "scattergeo": [
           {
            "marker": {
             "colorbar": {
              "outlinewidth": 0,
              "ticks": ""
             }
            },
            "type": "scattergeo"
           }
          ],
          "scattergl": [
           {
            "marker": {
             "colorbar": {
              "outlinewidth": 0,
              "ticks": ""
             }
            },
            "type": "scattergl"
           }
          ],
          "scattermapbox": [
           {
            "marker": {
             "colorbar": {
              "outlinewidth": 0,
              "ticks": ""
             }
            },
            "type": "scattermapbox"
           }
          ],
          "scatterpolar": [
           {
            "marker": {
             "colorbar": {
              "outlinewidth": 0,
              "ticks": ""
             }
            },
            "type": "scatterpolar"
           }
          ],
          "scatterpolargl": [
           {
            "marker": {
             "colorbar": {
              "outlinewidth": 0,
              "ticks": ""
             }
            },
            "type": "scatterpolargl"
           }
          ],
          "scatterternary": [
           {
            "marker": {
             "colorbar": {
              "outlinewidth": 0,
              "ticks": ""
             }
            },
            "type": "scatterternary"
           }
          ],
          "surface": [
           {
            "colorbar": {
             "outlinewidth": 0,
             "ticks": ""
            },
            "colorscale": [
             [
              0,
              "#0d0887"
             ],
             [
              0.1111111111111111,
              "#46039f"
             ],
             [
              0.2222222222222222,
              "#7201a8"
             ],
             [
              0.3333333333333333,
              "#9c179e"
             ],
             [
              0.4444444444444444,
              "#bd3786"
             ],
             [
              0.5555555555555556,
              "#d8576b"
             ],
             [
              0.6666666666666666,
              "#ed7953"
             ],
             [
              0.7777777777777778,
              "#fb9f3a"
             ],
             [
              0.8888888888888888,
              "#fdca26"
             ],
             [
              1,
              "#f0f921"
             ]
            ],
            "type": "surface"
           }
          ],
          "table": [
           {
            "cells": {
             "fill": {
              "color": "#EBF0F8"
             },
             "line": {
              "color": "white"
             }
            },
            "header": {
             "fill": {
              "color": "#C8D4E3"
             },
             "line": {
              "color": "white"
             }
            },
            "type": "table"
           }
          ]
         },
         "layout": {
          "annotationdefaults": {
           "arrowcolor": "#2a3f5f",
           "arrowhead": 0,
           "arrowwidth": 1
          },
          "autotypenumbers": "strict",
          "coloraxis": {
           "colorbar": {
            "outlinewidth": 0,
            "ticks": ""
           }
          },
          "colorscale": {
           "diverging": [
            [
             0,
             "#8e0152"
            ],
            [
             0.1,
             "#c51b7d"
            ],
            [
             0.2,
             "#de77ae"
            ],
            [
             0.3,
             "#f1b6da"
            ],
            [
             0.4,
             "#fde0ef"
            ],
            [
             0.5,
             "#f7f7f7"
            ],
            [
             0.6,
             "#e6f5d0"
            ],
            [
             0.7,
             "#b8e186"
            ],
            [
             0.8,
             "#7fbc41"
            ],
            [
             0.9,
             "#4d9221"
            ],
            [
             1,
             "#276419"
            ]
           ],
           "sequential": [
            [
             0,
             "#0d0887"
            ],
            [
             0.1111111111111111,
             "#46039f"
            ],
            [
             0.2222222222222222,
             "#7201a8"
            ],
            [
             0.3333333333333333,
             "#9c179e"
            ],
            [
             0.4444444444444444,
             "#bd3786"
            ],
            [
             0.5555555555555556,
             "#d8576b"
            ],
            [
             0.6666666666666666,
             "#ed7953"
            ],
            [
             0.7777777777777778,
             "#fb9f3a"
            ],
            [
             0.8888888888888888,
             "#fdca26"
            ],
            [
             1,
             "#f0f921"
            ]
           ],
           "sequentialminus": [
            [
             0,
             "#0d0887"
            ],
            [
             0.1111111111111111,
             "#46039f"
            ],
            [
             0.2222222222222222,
             "#7201a8"
            ],
            [
             0.3333333333333333,
             "#9c179e"
            ],
            [
             0.4444444444444444,
             "#bd3786"
            ],
            [
             0.5555555555555556,
             "#d8576b"
            ],
            [
             0.6666666666666666,
             "#ed7953"
            ],
            [
             0.7777777777777778,
             "#fb9f3a"
            ],
            [
             0.8888888888888888,
             "#fdca26"
            ],
            [
             1,
             "#f0f921"
            ]
           ]
          },
          "colorway": [
           "#636efa",
           "#EF553B",
           "#00cc96",
           "#ab63fa",
           "#FFA15A",
           "#19d3f3",
           "#FF6692",
           "#B6E880",
           "#FF97FF",
           "#FECB52"
          ],
          "font": {
           "color": "#2a3f5f"
          },
          "geo": {
           "bgcolor": "white",
           "lakecolor": "white",
           "landcolor": "#E5ECF6",
           "showlakes": true,
           "showland": true,
           "subunitcolor": "white"
          },
          "hoverlabel": {
           "align": "left"
          },
          "hovermode": "closest",
          "mapbox": {
           "style": "light"
          },
          "paper_bgcolor": "white",
          "plot_bgcolor": "#E5ECF6",
          "polar": {
           "angularaxis": {
            "gridcolor": "white",
            "linecolor": "white",
            "ticks": ""
           },
           "bgcolor": "#E5ECF6",
           "radialaxis": {
            "gridcolor": "white",
            "linecolor": "white",
            "ticks": ""
           }
          },
          "scene": {
           "xaxis": {
            "backgroundcolor": "#E5ECF6",
            "gridcolor": "white",
            "gridwidth": 2,
            "linecolor": "white",
            "showbackground": true,
            "ticks": "",
            "zerolinecolor": "white"
           },
           "yaxis": {
            "backgroundcolor": "#E5ECF6",
            "gridcolor": "white",
            "gridwidth": 2,
            "linecolor": "white",
            "showbackground": true,
            "ticks": "",
            "zerolinecolor": "white"
           },
           "zaxis": {
            "backgroundcolor": "#E5ECF6",
            "gridcolor": "white",
            "gridwidth": 2,
            "linecolor": "white",
            "showbackground": true,
            "ticks": "",
            "zerolinecolor": "white"
           }
          },
          "shapedefaults": {
           "line": {
            "color": "#2a3f5f"
           }
          },
          "ternary": {
           "aaxis": {
            "gridcolor": "white",
            "linecolor": "white",
            "ticks": ""
           },
           "baxis": {
            "gridcolor": "white",
            "linecolor": "white",
            "ticks": ""
           },
           "bgcolor": "#E5ECF6",
           "caxis": {
            "gridcolor": "white",
            "linecolor": "white",
            "ticks": ""
           }
          },
          "title": {
           "x": 0.05
          },
          "xaxis": {
           "automargin": true,
           "gridcolor": "white",
           "linecolor": "white",
           "ticks": "",
           "title": {
            "standoff": 15
           },
           "zerolinecolor": "white",
           "zerolinewidth": 2
          },
          "yaxis": {
           "automargin": true,
           "gridcolor": "white",
           "linecolor": "white",
           "ticks": "",
           "title": {
            "standoff": 15
           },
           "zerolinecolor": "white",
           "zerolinewidth": 2
          }
         }
        },
        "title": {
         "text": "jumlah Kelulusan Prodi"
        },
        "xaxis": {
         "anchor": "y",
         "domain": [
          0,
          1
         ],
         "title": {
          "text": "nama_prodi"
         }
        },
        "yaxis": {
         "anchor": "x",
         "domain": [
          0,
          1
         ],
         "title": {
          "text": "jumlah Mahasiswa"
         }
        }
       }
      }
     },
     "metadata": {},
     "output_type": "display_data"
    }
   ],
   "source": [
    "fig = px.bar(angkatan18.groupby(['nama_prodi','status_lulus']).size().reset_index(name='jumlah'), \n",
    "             x='nama_prodi', \n",
    "             y='jumlah', \n",
    "             color='status_lulus', \n",
    "             barmode='group',\n",
    "             title='jumlah Kelulusan Prodi',\n",
    "             labels={'jumlah': 'jumlah Mahasiswa', 'Prodi': 'nama_prodi'},\n",
    "             text='jumlah'\n",
    "            )\n",
    "\n",
    "fig.update_layout(yaxis=dict(title='jumlah Mahasiswa'))  # Label sumbu Y\n",
    "\n",
    "fig.show()"
   ]
  },
  {
   "cell_type": "code",
   "execution_count": 131,
   "metadata": {},
   "outputs": [
    {
     "data": {
      "text/html": [
       "<div>\n",
       "<style scoped>\n",
       "    .dataframe tbody tr th:only-of-type {\n",
       "        vertical-align: middle;\n",
       "    }\n",
       "\n",
       "    .dataframe tbody tr th {\n",
       "        vertical-align: top;\n",
       "    }\n",
       "\n",
       "    .dataframe thead th {\n",
       "        text-align: right;\n",
       "    }\n",
       "</style>\n",
       "<table border=\"1\" class=\"dataframe\">\n",
       "  <thead>\n",
       "    <tr style=\"text-align: right;\">\n",
       "      <th></th>\n",
       "      <th>nim</th>\n",
       "      <th>nama</th>\n",
       "      <th>nama_prodi</th>\n",
       "      <th>jenjang</th>\n",
       "      <th>angkatan</th>\n",
       "      <th>nama_pembimbing</th>\n",
       "      <th>tanggal_sk_pembimbing</th>\n",
       "      <th>tanggal_pelaksanaan_ujian</th>\n",
       "      <th>status_lulus</th>\n",
       "      <th>tgl_lulus</th>\n",
       "    </tr>\n",
       "  </thead>\n",
       "  <tbody>\n",
       "  </tbody>\n",
       "</table>\n",
       "</div>"
      ],
      "text/plain": [
       "Empty DataFrame\n",
       "Columns: [nim, nama, nama_prodi, jenjang, angkatan, nama_pembimbing, tanggal_sk_pembimbing, tanggal_pelaksanaan_ujian, status_lulus, tgl_lulus]\n",
       "Index: []"
      ]
     },
     "execution_count": 131,
     "metadata": {},
     "output_type": "execute_result"
    }
   ],
   "source": [
    "# Menemukan baris dengan nilai null dan status_lulus bukan \"BELUM LULUS\"\n",
    "angkatan18[angkatan18.isnull().any(axis=1) & (angkatan18['status_lulus'] != \"BELUM LULUS\")]"
   ]
  },
  {
   "cell_type": "markdown",
   "metadata": {},
   "source": [
    "Catatan:\n",
    "\n",
    "Bimbingan aktif di tahun 2023"
   ]
  },
  {
   "cell_type": "code",
   "execution_count": 132,
   "metadata": {},
   "outputs": [
    {
     "data": {
      "text/html": [
       "<div>\n",
       "<style scoped>\n",
       "    .dataframe tbody tr th:only-of-type {\n",
       "        vertical-align: middle;\n",
       "    }\n",
       "\n",
       "    .dataframe tbody tr th {\n",
       "        vertical-align: top;\n",
       "    }\n",
       "\n",
       "    .dataframe thead th {\n",
       "        text-align: right;\n",
       "    }\n",
       "</style>\n",
       "<table border=\"1\" class=\"dataframe\">\n",
       "  <thead>\n",
       "    <tr style=\"text-align: right;\">\n",
       "      <th></th>\n",
       "      <th>nama_prodi</th>\n",
       "      <th>jenjang</th>\n",
       "      <th>angkatan</th>\n",
       "      <th>BELUM LULUS</th>\n",
       "      <th>LULUS</th>\n",
       "    </tr>\n",
       "  </thead>\n",
       "  <tbody>\n",
       "    <tr>\n",
       "      <th>0</th>\n",
       "      <td>Biologi</td>\n",
       "      <td>S1</td>\n",
       "      <td>2018</td>\n",
       "      <td>17</td>\n",
       "      <td>52</td>\n",
       "    </tr>\n",
       "    <tr>\n",
       "      <th>1</th>\n",
       "      <td>Fisika</td>\n",
       "      <td>S1</td>\n",
       "      <td>2018</td>\n",
       "      <td>9</td>\n",
       "      <td>38</td>\n",
       "    </tr>\n",
       "    <tr>\n",
       "      <th>2</th>\n",
       "      <td>Kimia</td>\n",
       "      <td>S1</td>\n",
       "      <td>2018</td>\n",
       "      <td>8</td>\n",
       "      <td>50</td>\n",
       "    </tr>\n",
       "    <tr>\n",
       "      <th>3</th>\n",
       "      <td>Matematika</td>\n",
       "      <td>S1</td>\n",
       "      <td>2018</td>\n",
       "      <td>11</td>\n",
       "      <td>24</td>\n",
       "    </tr>\n",
       "    <tr>\n",
       "      <th>4</th>\n",
       "      <td>Pendidikan Biologi</td>\n",
       "      <td>S1</td>\n",
       "      <td>2018</td>\n",
       "      <td>21</td>\n",
       "      <td>70</td>\n",
       "    </tr>\n",
       "    <tr>\n",
       "      <th>5</th>\n",
       "      <td>Pendidikan Fisika</td>\n",
       "      <td>S1</td>\n",
       "      <td>2018</td>\n",
       "      <td>22</td>\n",
       "      <td>60</td>\n",
       "    </tr>\n",
       "    <tr>\n",
       "      <th>6</th>\n",
       "      <td>Pendidikan Ilmu Pengetahuan Alam</td>\n",
       "      <td>S1</td>\n",
       "      <td>2018</td>\n",
       "      <td>12</td>\n",
       "      <td>60</td>\n",
       "    </tr>\n",
       "    <tr>\n",
       "      <th>7</th>\n",
       "      <td>Pendidikan Kimia</td>\n",
       "      <td>S1</td>\n",
       "      <td>2018</td>\n",
       "      <td>13</td>\n",
       "      <td>77</td>\n",
       "    </tr>\n",
       "    <tr>\n",
       "      <th>8</th>\n",
       "      <td>Pendidikan Matematika</td>\n",
       "      <td>S1</td>\n",
       "      <td>2018</td>\n",
       "      <td>51</td>\n",
       "      <td>147</td>\n",
       "    </tr>\n",
       "    <tr>\n",
       "      <th>9</th>\n",
       "      <td>Sistem Informasi</td>\n",
       "      <td>S1</td>\n",
       "      <td>2018</td>\n",
       "      <td>9</td>\n",
       "      <td>22</td>\n",
       "    </tr>\n",
       "    <tr>\n",
       "      <th>10</th>\n",
       "      <td>Statistika Terapan dan Komputasi</td>\n",
       "      <td>D3</td>\n",
       "      <td>2018</td>\n",
       "      <td>1</td>\n",
       "      <td>7</td>\n",
       "    </tr>\n",
       "    <tr>\n",
       "      <th>11</th>\n",
       "      <td>Teknik Informatika</td>\n",
       "      <td>S1</td>\n",
       "      <td>2018</td>\n",
       "      <td>19</td>\n",
       "      <td>42</td>\n",
       "    </tr>\n",
       "  </tbody>\n",
       "</table>\n",
       "</div>"
      ],
      "text/plain": [
       "                          nama_prodi jenjang  angkatan  BELUM LULUS  LULUS\n",
       "0                            Biologi      S1      2018           17     52\n",
       "1                             Fisika      S1      2018            9     38\n",
       "2                              Kimia      S1      2018            8     50\n",
       "3                         Matematika      S1      2018           11     24\n",
       "4                 Pendidikan Biologi      S1      2018           21     70\n",
       "5                  Pendidikan Fisika      S1      2018           22     60\n",
       "6   Pendidikan Ilmu Pengetahuan Alam      S1      2018           12     60\n",
       "7                   Pendidikan Kimia      S1      2018           13     77\n",
       "8              Pendidikan Matematika      S1      2018           51    147\n",
       "9                   Sistem Informasi      S1      2018            9     22\n",
       "10  Statistika Terapan dan Komputasi      D3      2018            1      7\n",
       "11                Teknik Informatika      S1      2018           19     42"
      ]
     },
     "execution_count": 132,
     "metadata": {},
     "output_type": "execute_result"
    }
   ],
   "source": [
    "grouped_data = angkatan18.groupby(['nama_prodi', 'jenjang', 'angkatan', 'status_lulus']).size().reset_index(name='jumlah')\n",
    "pivot_table = grouped_data.pivot(index=['nama_prodi', 'jenjang', 'angkatan'], columns='status_lulus', values='jumlah').reset_index()\n",
    "pivot_table = pivot_table.rename_axis(None, axis=1)\n",
    "pivot_table = pivot_table.rename(columns={'Sudah Lulus': 'sudah_lulus', 'Belum Lulus': 'belum_lulus'})\n",
    "pivot_table"
   ]
  },
  {
   "cell_type": "code",
   "execution_count": 133,
   "metadata": {},
   "outputs": [],
   "source": [
    "# make new column called 'persentase' which value is lulus/lulus+belum lulus * 100\n",
    "pivot_table['persentase'] = pivot_table['LULUS'] / (pivot_table['LULUS'] + pivot_table['BELUM LULUS']) * 100\n",
    "pivot_table['persentase'] = pivot_table['persentase'].round(2)"
   ]
  },
  {
   "cell_type": "code",
   "execution_count": 134,
   "metadata": {},
   "outputs": [
    {
     "data": {
      "text/html": [
       "<div>\n",
       "<style scoped>\n",
       "    .dataframe tbody tr th:only-of-type {\n",
       "        vertical-align: middle;\n",
       "    }\n",
       "\n",
       "    .dataframe tbody tr th {\n",
       "        vertical-align: top;\n",
       "    }\n",
       "\n",
       "    .dataframe thead th {\n",
       "        text-align: right;\n",
       "    }\n",
       "</style>\n",
       "<table border=\"1\" class=\"dataframe\">\n",
       "  <thead>\n",
       "    <tr style=\"text-align: right;\">\n",
       "      <th></th>\n",
       "      <th>nama_prodi</th>\n",
       "      <th>jenjang</th>\n",
       "      <th>angkatan</th>\n",
       "      <th>BELUM LULUS</th>\n",
       "      <th>LULUS</th>\n",
       "      <th>persentase</th>\n",
       "    </tr>\n",
       "  </thead>\n",
       "  <tbody>\n",
       "    <tr>\n",
       "      <th>0</th>\n",
       "      <td>Biologi</td>\n",
       "      <td>S1</td>\n",
       "      <td>2018</td>\n",
       "      <td>17</td>\n",
       "      <td>52</td>\n",
       "      <td>75.36</td>\n",
       "    </tr>\n",
       "    <tr>\n",
       "      <th>1</th>\n",
       "      <td>Fisika</td>\n",
       "      <td>S1</td>\n",
       "      <td>2018</td>\n",
       "      <td>9</td>\n",
       "      <td>38</td>\n",
       "      <td>80.85</td>\n",
       "    </tr>\n",
       "    <tr>\n",
       "      <th>2</th>\n",
       "      <td>Kimia</td>\n",
       "      <td>S1</td>\n",
       "      <td>2018</td>\n",
       "      <td>8</td>\n",
       "      <td>50</td>\n",
       "      <td>86.21</td>\n",
       "    </tr>\n",
       "    <tr>\n",
       "      <th>3</th>\n",
       "      <td>Matematika</td>\n",
       "      <td>S1</td>\n",
       "      <td>2018</td>\n",
       "      <td>11</td>\n",
       "      <td>24</td>\n",
       "      <td>68.57</td>\n",
       "    </tr>\n",
       "    <tr>\n",
       "      <th>4</th>\n",
       "      <td>Pendidikan Biologi</td>\n",
       "      <td>S1</td>\n",
       "      <td>2018</td>\n",
       "      <td>21</td>\n",
       "      <td>70</td>\n",
       "      <td>76.92</td>\n",
       "    </tr>\n",
       "    <tr>\n",
       "      <th>5</th>\n",
       "      <td>Pendidikan Fisika</td>\n",
       "      <td>S1</td>\n",
       "      <td>2018</td>\n",
       "      <td>22</td>\n",
       "      <td>60</td>\n",
       "      <td>73.17</td>\n",
       "    </tr>\n",
       "    <tr>\n",
       "      <th>6</th>\n",
       "      <td>Pendidikan Ilmu Pengetahuan Alam</td>\n",
       "      <td>S1</td>\n",
       "      <td>2018</td>\n",
       "      <td>12</td>\n",
       "      <td>60</td>\n",
       "      <td>83.33</td>\n",
       "    </tr>\n",
       "    <tr>\n",
       "      <th>7</th>\n",
       "      <td>Pendidikan Kimia</td>\n",
       "      <td>S1</td>\n",
       "      <td>2018</td>\n",
       "      <td>13</td>\n",
       "      <td>77</td>\n",
       "      <td>85.56</td>\n",
       "    </tr>\n",
       "    <tr>\n",
       "      <th>8</th>\n",
       "      <td>Pendidikan Matematika</td>\n",
       "      <td>S1</td>\n",
       "      <td>2018</td>\n",
       "      <td>51</td>\n",
       "      <td>147</td>\n",
       "      <td>74.24</td>\n",
       "    </tr>\n",
       "    <tr>\n",
       "      <th>9</th>\n",
       "      <td>Sistem Informasi</td>\n",
       "      <td>S1</td>\n",
       "      <td>2018</td>\n",
       "      <td>9</td>\n",
       "      <td>22</td>\n",
       "      <td>70.97</td>\n",
       "    </tr>\n",
       "    <tr>\n",
       "      <th>10</th>\n",
       "      <td>Statistika Terapan dan Komputasi</td>\n",
       "      <td>D3</td>\n",
       "      <td>2018</td>\n",
       "      <td>1</td>\n",
       "      <td>7</td>\n",
       "      <td>87.50</td>\n",
       "    </tr>\n",
       "    <tr>\n",
       "      <th>11</th>\n",
       "      <td>Teknik Informatika</td>\n",
       "      <td>S1</td>\n",
       "      <td>2018</td>\n",
       "      <td>19</td>\n",
       "      <td>42</td>\n",
       "      <td>68.85</td>\n",
       "    </tr>\n",
       "  </tbody>\n",
       "</table>\n",
       "</div>"
      ],
      "text/plain": [
       "                          nama_prodi jenjang  angkatan  BELUM LULUS  LULUS  \\\n",
       "0                            Biologi      S1      2018           17     52   \n",
       "1                             Fisika      S1      2018            9     38   \n",
       "2                              Kimia      S1      2018            8     50   \n",
       "3                         Matematika      S1      2018           11     24   \n",
       "4                 Pendidikan Biologi      S1      2018           21     70   \n",
       "5                  Pendidikan Fisika      S1      2018           22     60   \n",
       "6   Pendidikan Ilmu Pengetahuan Alam      S1      2018           12     60   \n",
       "7                   Pendidikan Kimia      S1      2018           13     77   \n",
       "8              Pendidikan Matematika      S1      2018           51    147   \n",
       "9                   Sistem Informasi      S1      2018            9     22   \n",
       "10  Statistika Terapan dan Komputasi      D3      2018            1      7   \n",
       "11                Teknik Informatika      S1      2018           19     42   \n",
       "\n",
       "    persentase  \n",
       "0        75.36  \n",
       "1        80.85  \n",
       "2        86.21  \n",
       "3        68.57  \n",
       "4        76.92  \n",
       "5        73.17  \n",
       "6        83.33  \n",
       "7        85.56  \n",
       "8        74.24  \n",
       "9        70.97  \n",
       "10       87.50  \n",
       "11       68.85  "
      ]
     },
     "execution_count": 134,
     "metadata": {},
     "output_type": "execute_result"
    }
   ],
   "source": [
    "pivot_table"
   ]
  },
  {
   "cell_type": "markdown",
   "metadata": {},
   "source": [
    "# **Tahun 2019**"
   ]
  },
  {
   "cell_type": "code",
   "execution_count": 135,
   "metadata": {},
   "outputs": [
    {
     "data": {
      "text/html": [
       "<div>\n",
       "<style scoped>\n",
       "    .dataframe tbody tr th:only-of-type {\n",
       "        vertical-align: middle;\n",
       "    }\n",
       "\n",
       "    .dataframe tbody tr th {\n",
       "        vertical-align: top;\n",
       "    }\n",
       "\n",
       "    .dataframe thead th {\n",
       "        text-align: right;\n",
       "    }\n",
       "</style>\n",
       "<table border=\"1\" class=\"dataframe\">\n",
       "  <thead>\n",
       "    <tr style=\"text-align: right;\">\n",
       "      <th></th>\n",
       "      <th>nim</th>\n",
       "      <th>nama</th>\n",
       "      <th>nama_prodi</th>\n",
       "      <th>jenjang</th>\n",
       "      <th>angkatan</th>\n",
       "      <th>nama_pembimbing</th>\n",
       "      <th>tanggal_sk_pembimbing</th>\n",
       "      <th>tanggal_pelaksanaan_ujian</th>\n",
       "      <th>status_lulus</th>\n",
       "      <th>tgl_lulus</th>\n",
       "    </tr>\n",
       "  </thead>\n",
       "  <tbody>\n",
       "    <tr>\n",
       "      <th>9</th>\n",
       "      <td>4112319001</td>\n",
       "      <td>PUJA AULIA ZUMUL LAILY</td>\n",
       "      <td>Statistika Terapan dan Komputasi</td>\n",
       "      <td>D3</td>\n",
       "      <td>2019</td>\n",
       "      <td>Amidi S.Si., M.Pd.</td>\n",
       "      <td>2022-06-30</td>\n",
       "      <td>2022-11-10 00:00:00</td>\n",
       "      <td>LULUS</td>\n",
       "      <td>2022-11-10</td>\n",
       "    </tr>\n",
       "    <tr>\n",
       "      <th>10</th>\n",
       "      <td>4112319002</td>\n",
       "      <td>DHIDHIT BONDHAN PAMUNGKAS</td>\n",
       "      <td>Statistika Terapan dan Komputasi</td>\n",
       "      <td>D3</td>\n",
       "      <td>2019</td>\n",
       "      <td>Dr. Drs.  Sugiman M.Si.</td>\n",
       "      <td>2022-06-30</td>\n",
       "      <td>2022-10-20 00:00:00</td>\n",
       "      <td>LULUS</td>\n",
       "      <td>2022-11-18</td>\n",
       "    </tr>\n",
       "    <tr>\n",
       "      <th>11</th>\n",
       "      <td>4112319003</td>\n",
       "      <td>LILIANA SHINTA DEWI</td>\n",
       "      <td>Statistika Terapan dan Komputasi</td>\n",
       "      <td>D3</td>\n",
       "      <td>2019</td>\n",
       "      <td>Dr.  Iqbal Kharisudin M.Sc.</td>\n",
       "      <td>2022-06-30</td>\n",
       "      <td>2023-05-29 08:00:00</td>\n",
       "      <td>LULUS</td>\n",
       "      <td>2023-05-29</td>\n",
       "    </tr>\n",
       "    <tr>\n",
       "      <th>12</th>\n",
       "      <td>4112319006</td>\n",
       "      <td>ALFANDI YUSUF PRATAMA</td>\n",
       "      <td>Statistika Terapan dan Komputasi</td>\n",
       "      <td>D3</td>\n",
       "      <td>2019</td>\n",
       "      <td>Dr.  Putriaji Hendikawati S.Si., M.Pd., M.Sc.</td>\n",
       "      <td>2022-06-30</td>\n",
       "      <td>NaN</td>\n",
       "      <td>BELUM LULUS</td>\n",
       "      <td>NaT</td>\n",
       "    </tr>\n",
       "    <tr>\n",
       "      <th>13</th>\n",
       "      <td>4112319007</td>\n",
       "      <td>ARINDA CINTA LESTARI</td>\n",
       "      <td>Statistika Terapan dan Komputasi</td>\n",
       "      <td>D3</td>\n",
       "      <td>2019</td>\n",
       "      <td>Dr.  Iqbal Kharisudin M.Sc.</td>\n",
       "      <td>2022-06-30</td>\n",
       "      <td>2023-08-07 08:00:00</td>\n",
       "      <td>LULUS</td>\n",
       "      <td>2023-08-07</td>\n",
       "    </tr>\n",
       "    <tr>\n",
       "      <th>...</th>\n",
       "      <td>...</td>\n",
       "      <td>...</td>\n",
       "      <td>...</td>\n",
       "      <td>...</td>\n",
       "      <td>...</td>\n",
       "      <td>...</td>\n",
       "      <td>...</td>\n",
       "      <td>...</td>\n",
       "      <td>...</td>\n",
       "      <td>...</td>\n",
       "    </tr>\n",
       "    <tr>\n",
       "      <th>2427</th>\n",
       "      <td>4612419042</td>\n",
       "      <td>BAGAS MAHARDIKA</td>\n",
       "      <td>Sistem Informasi</td>\n",
       "      <td>S1</td>\n",
       "      <td>2019</td>\n",
       "      <td>Anggyi Trisnawan Putra S.Si., M.Si.</td>\n",
       "      <td>2023-02-03</td>\n",
       "      <td>NaN</td>\n",
       "      <td>BELUM LULUS</td>\n",
       "      <td>NaT</td>\n",
       "    </tr>\n",
       "    <tr>\n",
       "      <th>2428</th>\n",
       "      <td>4612419045</td>\n",
       "      <td>ASHARINNISA SALSABILA</td>\n",
       "      <td>Sistem Informasi</td>\n",
       "      <td>S1</td>\n",
       "      <td>2019</td>\n",
       "      <td>Budi Prasetiyo S.Si., M.Kom.</td>\n",
       "      <td>2022-12-15</td>\n",
       "      <td>NaN</td>\n",
       "      <td>BELUM LULUS</td>\n",
       "      <td>NaT</td>\n",
       "    </tr>\n",
       "    <tr>\n",
       "      <th>2429</th>\n",
       "      <td>4612419046</td>\n",
       "      <td>ARIF SAIFUNNASRULLAH</td>\n",
       "      <td>Sistem Informasi</td>\n",
       "      <td>S1</td>\n",
       "      <td>2019</td>\n",
       "      <td>Kholiq Budiman S.Pd., M.Kom.</td>\n",
       "      <td>2022-11-22</td>\n",
       "      <td>2023-02-01 00:00:00</td>\n",
       "      <td>LULUS</td>\n",
       "      <td>2023-02-03</td>\n",
       "    </tr>\n",
       "    <tr>\n",
       "      <th>2430</th>\n",
       "      <td>4612419047</td>\n",
       "      <td>AGUS BAYU PAMUNGKAS</td>\n",
       "      <td>Sistem Informasi</td>\n",
       "      <td>S1</td>\n",
       "      <td>2019</td>\n",
       "      <td>Budi Prasetiyo S.Si., M.Kom.</td>\n",
       "      <td>2023-11-02</td>\n",
       "      <td>NaN</td>\n",
       "      <td>BELUM LULUS</td>\n",
       "      <td>NaT</td>\n",
       "    </tr>\n",
       "    <tr>\n",
       "      <th>2431</th>\n",
       "      <td>4612419048</td>\n",
       "      <td>AFIF AMIRULLAH</td>\n",
       "      <td>Sistem Informasi</td>\n",
       "      <td>S1</td>\n",
       "      <td>2019</td>\n",
       "      <td>Kholiq Budiman S.Pd., M.Kom.</td>\n",
       "      <td>2023-08-21</td>\n",
       "      <td>NaN</td>\n",
       "      <td>BELUM LULUS</td>\n",
       "      <td>NaT</td>\n",
       "    </tr>\n",
       "  </tbody>\n",
       "</table>\n",
       "<p>845 rows × 10 columns</p>\n",
       "</div>"
      ],
      "text/plain": [
       "             nim                       nama                        nama_prodi  \\\n",
       "9     4112319001     PUJA AULIA ZUMUL LAILY  Statistika Terapan dan Komputasi   \n",
       "10    4112319002  DHIDHIT BONDHAN PAMUNGKAS  Statistika Terapan dan Komputasi   \n",
       "11    4112319003        LILIANA SHINTA DEWI  Statistika Terapan dan Komputasi   \n",
       "12    4112319006      ALFANDI YUSUF PRATAMA  Statistika Terapan dan Komputasi   \n",
       "13    4112319007       ARINDA CINTA LESTARI  Statistika Terapan dan Komputasi   \n",
       "...          ...                        ...                               ...   \n",
       "2427  4612419042            BAGAS MAHARDIKA                  Sistem Informasi   \n",
       "2428  4612419045      ASHARINNISA SALSABILA                  Sistem Informasi   \n",
       "2429  4612419046       ARIF SAIFUNNASRULLAH                  Sistem Informasi   \n",
       "2430  4612419047        AGUS BAYU PAMUNGKAS                  Sistem Informasi   \n",
       "2431  4612419048             AFIF AMIRULLAH                  Sistem Informasi   \n",
       "\n",
       "     jenjang  angkatan                                nama_pembimbing  \\\n",
       "9         D3      2019                             Amidi S.Si., M.Pd.   \n",
       "10        D3      2019                        Dr. Drs.  Sugiman M.Si.   \n",
       "11        D3      2019                    Dr.  Iqbal Kharisudin M.Sc.   \n",
       "12        D3      2019  Dr.  Putriaji Hendikawati S.Si., M.Pd., M.Sc.   \n",
       "13        D3      2019                    Dr.  Iqbal Kharisudin M.Sc.   \n",
       "...      ...       ...                                            ...   \n",
       "2427      S1      2019            Anggyi Trisnawan Putra S.Si., M.Si.   \n",
       "2428      S1      2019                   Budi Prasetiyo S.Si., M.Kom.   \n",
       "2429      S1      2019                   Kholiq Budiman S.Pd., M.Kom.   \n",
       "2430      S1      2019                   Budi Prasetiyo S.Si., M.Kom.   \n",
       "2431      S1      2019                   Kholiq Budiman S.Pd., M.Kom.   \n",
       "\n",
       "     tanggal_sk_pembimbing tanggal_pelaksanaan_ujian status_lulus  tgl_lulus  \n",
       "9               2022-06-30       2022-11-10 00:00:00        LULUS 2022-11-10  \n",
       "10              2022-06-30       2022-10-20 00:00:00        LULUS 2022-11-18  \n",
       "11              2022-06-30       2023-05-29 08:00:00        LULUS 2023-05-29  \n",
       "12              2022-06-30                       NaN  BELUM LULUS        NaT  \n",
       "13              2022-06-30       2023-08-07 08:00:00        LULUS 2023-08-07  \n",
       "...                    ...                       ...          ...        ...  \n",
       "2427            2023-02-03                       NaN  BELUM LULUS        NaT  \n",
       "2428            2022-12-15                       NaN  BELUM LULUS        NaT  \n",
       "2429            2022-11-22       2023-02-01 00:00:00        LULUS 2023-02-03  \n",
       "2430            2023-11-02                       NaN  BELUM LULUS        NaT  \n",
       "2431            2023-08-21                       NaN  BELUM LULUS        NaT  \n",
       "\n",
       "[845 rows x 10 columns]"
      ]
     },
     "execution_count": 135,
     "metadata": {},
     "output_type": "execute_result"
    }
   ],
   "source": [
    "angkatan19 = raw_df.loc[raw_df['angkatan'] == 2019]\n",
    "angkatan19"
   ]
  },
  {
   "cell_type": "code",
   "execution_count": 136,
   "metadata": {},
   "outputs": [
    {
     "data": {
      "text/html": [
       "<div>\n",
       "<style scoped>\n",
       "    .dataframe tbody tr th:only-of-type {\n",
       "        vertical-align: middle;\n",
       "    }\n",
       "\n",
       "    .dataframe tbody tr th {\n",
       "        vertical-align: top;\n",
       "    }\n",
       "\n",
       "    .dataframe thead th {\n",
       "        text-align: right;\n",
       "    }\n",
       "</style>\n",
       "<table border=\"1\" class=\"dataframe\">\n",
       "  <thead>\n",
       "    <tr style=\"text-align: right;\">\n",
       "      <th></th>\n",
       "      <th>nama_prodi</th>\n",
       "      <th>status_lulus</th>\n",
       "      <th>jumlah</th>\n",
       "    </tr>\n",
       "  </thead>\n",
       "  <tbody>\n",
       "    <tr>\n",
       "      <th>0</th>\n",
       "      <td>Biologi</td>\n",
       "      <td>BELUM LULUS</td>\n",
       "      <td>16</td>\n",
       "    </tr>\n",
       "    <tr>\n",
       "      <th>1</th>\n",
       "      <td>Biologi</td>\n",
       "      <td>LULUS</td>\n",
       "      <td>56</td>\n",
       "    </tr>\n",
       "    <tr>\n",
       "      <th>2</th>\n",
       "      <td>Fisika</td>\n",
       "      <td>BELUM LULUS</td>\n",
       "      <td>16</td>\n",
       "    </tr>\n",
       "    <tr>\n",
       "      <th>3</th>\n",
       "      <td>Fisika</td>\n",
       "      <td>LULUS</td>\n",
       "      <td>40</td>\n",
       "    </tr>\n",
       "    <tr>\n",
       "      <th>4</th>\n",
       "      <td>Ilmu Lingkungan</td>\n",
       "      <td>BELUM LULUS</td>\n",
       "      <td>21</td>\n",
       "    </tr>\n",
       "    <tr>\n",
       "      <th>5</th>\n",
       "      <td>Ilmu Lingkungan</td>\n",
       "      <td>LULUS</td>\n",
       "      <td>10</td>\n",
       "    </tr>\n",
       "    <tr>\n",
       "      <th>6</th>\n",
       "      <td>Kimia</td>\n",
       "      <td>BELUM LULUS</td>\n",
       "      <td>36</td>\n",
       "    </tr>\n",
       "    <tr>\n",
       "      <th>7</th>\n",
       "      <td>Kimia</td>\n",
       "      <td>LULUS</td>\n",
       "      <td>13</td>\n",
       "    </tr>\n",
       "    <tr>\n",
       "      <th>8</th>\n",
       "      <td>Matematika</td>\n",
       "      <td>BELUM LULUS</td>\n",
       "      <td>17</td>\n",
       "    </tr>\n",
       "    <tr>\n",
       "      <th>9</th>\n",
       "      <td>Matematika</td>\n",
       "      <td>LULUS</td>\n",
       "      <td>19</td>\n",
       "    </tr>\n",
       "    <tr>\n",
       "      <th>10</th>\n",
       "      <td>Pendidikan Biologi</td>\n",
       "      <td>BELUM LULUS</td>\n",
       "      <td>53</td>\n",
       "    </tr>\n",
       "    <tr>\n",
       "      <th>11</th>\n",
       "      <td>Pendidikan Biologi</td>\n",
       "      <td>LULUS</td>\n",
       "      <td>43</td>\n",
       "    </tr>\n",
       "    <tr>\n",
       "      <th>12</th>\n",
       "      <td>Pendidikan Fisika</td>\n",
       "      <td>BELUM LULUS</td>\n",
       "      <td>16</td>\n",
       "    </tr>\n",
       "    <tr>\n",
       "      <th>13</th>\n",
       "      <td>Pendidikan Fisika</td>\n",
       "      <td>LULUS</td>\n",
       "      <td>53</td>\n",
       "    </tr>\n",
       "    <tr>\n",
       "      <th>14</th>\n",
       "      <td>Pendidikan Ilmu Pengetahuan Alam</td>\n",
       "      <td>BELUM LULUS</td>\n",
       "      <td>29</td>\n",
       "    </tr>\n",
       "    <tr>\n",
       "      <th>15</th>\n",
       "      <td>Pendidikan Ilmu Pengetahuan Alam</td>\n",
       "      <td>LULUS</td>\n",
       "      <td>34</td>\n",
       "    </tr>\n",
       "    <tr>\n",
       "      <th>16</th>\n",
       "      <td>Pendidikan Kimia</td>\n",
       "      <td>BELUM LULUS</td>\n",
       "      <td>20</td>\n",
       "    </tr>\n",
       "    <tr>\n",
       "      <th>17</th>\n",
       "      <td>Pendidikan Kimia</td>\n",
       "      <td>LULUS</td>\n",
       "      <td>67</td>\n",
       "    </tr>\n",
       "    <tr>\n",
       "      <th>18</th>\n",
       "      <td>Pendidikan Matematika</td>\n",
       "      <td>BELUM LULUS</td>\n",
       "      <td>48</td>\n",
       "    </tr>\n",
       "    <tr>\n",
       "      <th>19</th>\n",
       "      <td>Pendidikan Matematika</td>\n",
       "      <td>LULUS</td>\n",
       "      <td>119</td>\n",
       "    </tr>\n",
       "    <tr>\n",
       "      <th>20</th>\n",
       "      <td>Sistem Informasi</td>\n",
       "      <td>BELUM LULUS</td>\n",
       "      <td>23</td>\n",
       "    </tr>\n",
       "    <tr>\n",
       "      <th>21</th>\n",
       "      <td>Sistem Informasi</td>\n",
       "      <td>LULUS</td>\n",
       "      <td>13</td>\n",
       "    </tr>\n",
       "    <tr>\n",
       "      <th>22</th>\n",
       "      <td>Statistika Terapan dan Komputasi</td>\n",
       "      <td>BELUM LULUS</td>\n",
       "      <td>6</td>\n",
       "    </tr>\n",
       "    <tr>\n",
       "      <th>23</th>\n",
       "      <td>Statistika Terapan dan Komputasi</td>\n",
       "      <td>LULUS</td>\n",
       "      <td>16</td>\n",
       "    </tr>\n",
       "    <tr>\n",
       "      <th>24</th>\n",
       "      <td>Teknik Informatika</td>\n",
       "      <td>BELUM LULUS</td>\n",
       "      <td>26</td>\n",
       "    </tr>\n",
       "    <tr>\n",
       "      <th>25</th>\n",
       "      <td>Teknik Informatika</td>\n",
       "      <td>LULUS</td>\n",
       "      <td>35</td>\n",
       "    </tr>\n",
       "  </tbody>\n",
       "</table>\n",
       "</div>"
      ],
      "text/plain": [
       "                          nama_prodi status_lulus  jumlah\n",
       "0                            Biologi  BELUM LULUS      16\n",
       "1                            Biologi        LULUS      56\n",
       "2                             Fisika  BELUM LULUS      16\n",
       "3                             Fisika        LULUS      40\n",
       "4                    Ilmu Lingkungan  BELUM LULUS      21\n",
       "5                    Ilmu Lingkungan        LULUS      10\n",
       "6                              Kimia  BELUM LULUS      36\n",
       "7                              Kimia        LULUS      13\n",
       "8                         Matematika  BELUM LULUS      17\n",
       "9                         Matematika        LULUS      19\n",
       "10                Pendidikan Biologi  BELUM LULUS      53\n",
       "11                Pendidikan Biologi        LULUS      43\n",
       "12                 Pendidikan Fisika  BELUM LULUS      16\n",
       "13                 Pendidikan Fisika        LULUS      53\n",
       "14  Pendidikan Ilmu Pengetahuan Alam  BELUM LULUS      29\n",
       "15  Pendidikan Ilmu Pengetahuan Alam        LULUS      34\n",
       "16                  Pendidikan Kimia  BELUM LULUS      20\n",
       "17                  Pendidikan Kimia        LULUS      67\n",
       "18             Pendidikan Matematika  BELUM LULUS      48\n",
       "19             Pendidikan Matematika        LULUS     119\n",
       "20                  Sistem Informasi  BELUM LULUS      23\n",
       "21                  Sistem Informasi        LULUS      13\n",
       "22  Statistika Terapan dan Komputasi  BELUM LULUS       6\n",
       "23  Statistika Terapan dan Komputasi        LULUS      16\n",
       "24                Teknik Informatika  BELUM LULUS      26\n",
       "25                Teknik Informatika        LULUS      35"
      ]
     },
     "execution_count": 136,
     "metadata": {},
     "output_type": "execute_result"
    }
   ],
   "source": [
    "angkatan19.groupby(['nama_prodi','status_lulus']).size().reset_index(name='jumlah')"
   ]
  },
  {
   "cell_type": "code",
   "execution_count": 137,
   "metadata": {},
   "outputs": [
    {
     "data": {
      "application/vnd.plotly.v1+json": {
       "config": {
        "plotlyServerURL": "https://plot.ly"
       },
       "data": [
        {
         "alignmentgroup": "True",
         "hovertemplate": "status_lulus=BELUM LULUS<br>nama_prodi=%{x}<br>jumlah Mahasiswa=%{text}<extra></extra>",
         "legendgroup": "BELUM LULUS",
         "marker": {
          "color": "#636efa",
          "pattern": {
           "shape": ""
          }
         },
         "name": "BELUM LULUS",
         "offsetgroup": "BELUM LULUS",
         "orientation": "v",
         "showlegend": true,
         "text": [
          16,
          16,
          21,
          36,
          17,
          53,
          16,
          29,
          20,
          48,
          23,
          6,
          26
         ],
         "textposition": "auto",
         "type": "bar",
         "x": [
          "Biologi",
          "Fisika",
          "Ilmu Lingkungan",
          "Kimia",
          "Matematika",
          "Pendidikan Biologi",
          "Pendidikan Fisika",
          "Pendidikan Ilmu Pengetahuan Alam",
          "Pendidikan Kimia",
          "Pendidikan Matematika",
          "Sistem Informasi",
          "Statistika Terapan dan Komputasi",
          "Teknik Informatika"
         ],
         "xaxis": "x",
         "y": [
          16,
          16,
          21,
          36,
          17,
          53,
          16,
          29,
          20,
          48,
          23,
          6,
          26
         ],
         "yaxis": "y"
        },
        {
         "alignmentgroup": "True",
         "hovertemplate": "status_lulus=LULUS<br>nama_prodi=%{x}<br>jumlah Mahasiswa=%{text}<extra></extra>",
         "legendgroup": "LULUS",
         "marker": {
          "color": "#EF553B",
          "pattern": {
           "shape": ""
          }
         },
         "name": "LULUS",
         "offsetgroup": "LULUS",
         "orientation": "v",
         "showlegend": true,
         "text": [
          56,
          40,
          10,
          13,
          19,
          43,
          53,
          34,
          67,
          119,
          13,
          16,
          35
         ],
         "textposition": "auto",
         "type": "bar",
         "x": [
          "Biologi",
          "Fisika",
          "Ilmu Lingkungan",
          "Kimia",
          "Matematika",
          "Pendidikan Biologi",
          "Pendidikan Fisika",
          "Pendidikan Ilmu Pengetahuan Alam",
          "Pendidikan Kimia",
          "Pendidikan Matematika",
          "Sistem Informasi",
          "Statistika Terapan dan Komputasi",
          "Teknik Informatika"
         ],
         "xaxis": "x",
         "y": [
          56,
          40,
          10,
          13,
          19,
          43,
          53,
          34,
          67,
          119,
          13,
          16,
          35
         ],
         "yaxis": "y"
        }
       ],
       "layout": {
        "barmode": "group",
        "legend": {
         "title": {
          "text": "status_lulus"
         },
         "tracegroupgap": 0
        },
        "template": {
         "data": {
          "bar": [
           {
            "error_x": {
             "color": "#2a3f5f"
            },
            "error_y": {
             "color": "#2a3f5f"
            },
            "marker": {
             "line": {
              "color": "#E5ECF6",
              "width": 0.5
             },
             "pattern": {
              "fillmode": "overlay",
              "size": 10,
              "solidity": 0.2
             }
            },
            "type": "bar"
           }
          ],
          "barpolar": [
           {
            "marker": {
             "line": {
              "color": "#E5ECF6",
              "width": 0.5
             },
             "pattern": {
              "fillmode": "overlay",
              "size": 10,
              "solidity": 0.2
             }
            },
            "type": "barpolar"
           }
          ],
          "carpet": [
           {
            "aaxis": {
             "endlinecolor": "#2a3f5f",
             "gridcolor": "white",
             "linecolor": "white",
             "minorgridcolor": "white",
             "startlinecolor": "#2a3f5f"
            },
            "baxis": {
             "endlinecolor": "#2a3f5f",
             "gridcolor": "white",
             "linecolor": "white",
             "minorgridcolor": "white",
             "startlinecolor": "#2a3f5f"
            },
            "type": "carpet"
           }
          ],
          "choropleth": [
           {
            "colorbar": {
             "outlinewidth": 0,
             "ticks": ""
            },
            "type": "choropleth"
           }
          ],
          "contour": [
           {
            "colorbar": {
             "outlinewidth": 0,
             "ticks": ""
            },
            "colorscale": [
             [
              0,
              "#0d0887"
             ],
             [
              0.1111111111111111,
              "#46039f"
             ],
             [
              0.2222222222222222,
              "#7201a8"
             ],
             [
              0.3333333333333333,
              "#9c179e"
             ],
             [
              0.4444444444444444,
              "#bd3786"
             ],
             [
              0.5555555555555556,
              "#d8576b"
             ],
             [
              0.6666666666666666,
              "#ed7953"
             ],
             [
              0.7777777777777778,
              "#fb9f3a"
             ],
             [
              0.8888888888888888,
              "#fdca26"
             ],
             [
              1,
              "#f0f921"
             ]
            ],
            "type": "contour"
           }
          ],
          "contourcarpet": [
           {
            "colorbar": {
             "outlinewidth": 0,
             "ticks": ""
            },
            "type": "contourcarpet"
           }
          ],
          "heatmap": [
           {
            "colorbar": {
             "outlinewidth": 0,
             "ticks": ""
            },
            "colorscale": [
             [
              0,
              "#0d0887"
             ],
             [
              0.1111111111111111,
              "#46039f"
             ],
             [
              0.2222222222222222,
              "#7201a8"
             ],
             [
              0.3333333333333333,
              "#9c179e"
             ],
             [
              0.4444444444444444,
              "#bd3786"
             ],
             [
              0.5555555555555556,
              "#d8576b"
             ],
             [
              0.6666666666666666,
              "#ed7953"
             ],
             [
              0.7777777777777778,
              "#fb9f3a"
             ],
             [
              0.8888888888888888,
              "#fdca26"
             ],
             [
              1,
              "#f0f921"
             ]
            ],
            "type": "heatmap"
           }
          ],
          "heatmapgl": [
           {
            "colorbar": {
             "outlinewidth": 0,
             "ticks": ""
            },
            "colorscale": [
             [
              0,
              "#0d0887"
             ],
             [
              0.1111111111111111,
              "#46039f"
             ],
             [
              0.2222222222222222,
              "#7201a8"
             ],
             [
              0.3333333333333333,
              "#9c179e"
             ],
             [
              0.4444444444444444,
              "#bd3786"
             ],
             [
              0.5555555555555556,
              "#d8576b"
             ],
             [
              0.6666666666666666,
              "#ed7953"
             ],
             [
              0.7777777777777778,
              "#fb9f3a"
             ],
             [
              0.8888888888888888,
              "#fdca26"
             ],
             [
              1,
              "#f0f921"
             ]
            ],
            "type": "heatmapgl"
           }
          ],
          "histogram": [
           {
            "marker": {
             "pattern": {
              "fillmode": "overlay",
              "size": 10,
              "solidity": 0.2
             }
            },
            "type": "histogram"
           }
          ],
          "histogram2d": [
           {
            "colorbar": {
             "outlinewidth": 0,
             "ticks": ""
            },
            "colorscale": [
             [
              0,
              "#0d0887"
             ],
             [
              0.1111111111111111,
              "#46039f"
             ],
             [
              0.2222222222222222,
              "#7201a8"
             ],
             [
              0.3333333333333333,
              "#9c179e"
             ],
             [
              0.4444444444444444,
              "#bd3786"
             ],
             [
              0.5555555555555556,
              "#d8576b"
             ],
             [
              0.6666666666666666,
              "#ed7953"
             ],
             [
              0.7777777777777778,
              "#fb9f3a"
             ],
             [
              0.8888888888888888,
              "#fdca26"
             ],
             [
              1,
              "#f0f921"
             ]
            ],
            "type": "histogram2d"
           }
          ],
          "histogram2dcontour": [
           {
            "colorbar": {
             "outlinewidth": 0,
             "ticks": ""
            },
            "colorscale": [
             [
              0,
              "#0d0887"
             ],
             [
              0.1111111111111111,
              "#46039f"
             ],
             [
              0.2222222222222222,
              "#7201a8"
             ],
             [
              0.3333333333333333,
              "#9c179e"
             ],
             [
              0.4444444444444444,
              "#bd3786"
             ],
             [
              0.5555555555555556,
              "#d8576b"
             ],
             [
              0.6666666666666666,
              "#ed7953"
             ],
             [
              0.7777777777777778,
              "#fb9f3a"
             ],
             [
              0.8888888888888888,
              "#fdca26"
             ],
             [
              1,
              "#f0f921"
             ]
            ],
            "type": "histogram2dcontour"
           }
          ],
          "mesh3d": [
           {
            "colorbar": {
             "outlinewidth": 0,
             "ticks": ""
            },
            "type": "mesh3d"
           }
          ],
          "parcoords": [
           {
            "line": {
             "colorbar": {
              "outlinewidth": 0,
              "ticks": ""
             }
            },
            "type": "parcoords"
           }
          ],
          "pie": [
           {
            "automargin": true,
            "type": "pie"
           }
          ],
          "scatter": [
           {
            "fillpattern": {
             "fillmode": "overlay",
             "size": 10,
             "solidity": 0.2
            },
            "type": "scatter"
           }
          ],
          "scatter3d": [
           {
            "line": {
             "colorbar": {
              "outlinewidth": 0,
              "ticks": ""
             }
            },
            "marker": {
             "colorbar": {
              "outlinewidth": 0,
              "ticks": ""
             }
            },
            "type": "scatter3d"
           }
          ],
          "scattercarpet": [
           {
            "marker": {
             "colorbar": {
              "outlinewidth": 0,
              "ticks": ""
             }
            },
            "type": "scattercarpet"
           }
          ],
          "scattergeo": [
           {
            "marker": {
             "colorbar": {
              "outlinewidth": 0,
              "ticks": ""
             }
            },
            "type": "scattergeo"
           }
          ],
          "scattergl": [
           {
            "marker": {
             "colorbar": {
              "outlinewidth": 0,
              "ticks": ""
             }
            },
            "type": "scattergl"
           }
          ],
          "scattermapbox": [
           {
            "marker": {
             "colorbar": {
              "outlinewidth": 0,
              "ticks": ""
             }
            },
            "type": "scattermapbox"
           }
          ],
          "scatterpolar": [
           {
            "marker": {
             "colorbar": {
              "outlinewidth": 0,
              "ticks": ""
             }
            },
            "type": "scatterpolar"
           }
          ],
          "scatterpolargl": [
           {
            "marker": {
             "colorbar": {
              "outlinewidth": 0,
              "ticks": ""
             }
            },
            "type": "scatterpolargl"
           }
          ],
          "scatterternary": [
           {
            "marker": {
             "colorbar": {
              "outlinewidth": 0,
              "ticks": ""
             }
            },
            "type": "scatterternary"
           }
          ],
          "surface": [
           {
            "colorbar": {
             "outlinewidth": 0,
             "ticks": ""
            },
            "colorscale": [
             [
              0,
              "#0d0887"
             ],
             [
              0.1111111111111111,
              "#46039f"
             ],
             [
              0.2222222222222222,
              "#7201a8"
             ],
             [
              0.3333333333333333,
              "#9c179e"
             ],
             [
              0.4444444444444444,
              "#bd3786"
             ],
             [
              0.5555555555555556,
              "#d8576b"
             ],
             [
              0.6666666666666666,
              "#ed7953"
             ],
             [
              0.7777777777777778,
              "#fb9f3a"
             ],
             [
              0.8888888888888888,
              "#fdca26"
             ],
             [
              1,
              "#f0f921"
             ]
            ],
            "type": "surface"
           }
          ],
          "table": [
           {
            "cells": {
             "fill": {
              "color": "#EBF0F8"
             },
             "line": {
              "color": "white"
             }
            },
            "header": {
             "fill": {
              "color": "#C8D4E3"
             },
             "line": {
              "color": "white"
             }
            },
            "type": "table"
           }
          ]
         },
         "layout": {
          "annotationdefaults": {
           "arrowcolor": "#2a3f5f",
           "arrowhead": 0,
           "arrowwidth": 1
          },
          "autotypenumbers": "strict",
          "coloraxis": {
           "colorbar": {
            "outlinewidth": 0,
            "ticks": ""
           }
          },
          "colorscale": {
           "diverging": [
            [
             0,
             "#8e0152"
            ],
            [
             0.1,
             "#c51b7d"
            ],
            [
             0.2,
             "#de77ae"
            ],
            [
             0.3,
             "#f1b6da"
            ],
            [
             0.4,
             "#fde0ef"
            ],
            [
             0.5,
             "#f7f7f7"
            ],
            [
             0.6,
             "#e6f5d0"
            ],
            [
             0.7,
             "#b8e186"
            ],
            [
             0.8,
             "#7fbc41"
            ],
            [
             0.9,
             "#4d9221"
            ],
            [
             1,
             "#276419"
            ]
           ],
           "sequential": [
            [
             0,
             "#0d0887"
            ],
            [
             0.1111111111111111,
             "#46039f"
            ],
            [
             0.2222222222222222,
             "#7201a8"
            ],
            [
             0.3333333333333333,
             "#9c179e"
            ],
            [
             0.4444444444444444,
             "#bd3786"
            ],
            [
             0.5555555555555556,
             "#d8576b"
            ],
            [
             0.6666666666666666,
             "#ed7953"
            ],
            [
             0.7777777777777778,
             "#fb9f3a"
            ],
            [
             0.8888888888888888,
             "#fdca26"
            ],
            [
             1,
             "#f0f921"
            ]
           ],
           "sequentialminus": [
            [
             0,
             "#0d0887"
            ],
            [
             0.1111111111111111,
             "#46039f"
            ],
            [
             0.2222222222222222,
             "#7201a8"
            ],
            [
             0.3333333333333333,
             "#9c179e"
            ],
            [
             0.4444444444444444,
             "#bd3786"
            ],
            [
             0.5555555555555556,
             "#d8576b"
            ],
            [
             0.6666666666666666,
             "#ed7953"
            ],
            [
             0.7777777777777778,
             "#fb9f3a"
            ],
            [
             0.8888888888888888,
             "#fdca26"
            ],
            [
             1,
             "#f0f921"
            ]
           ]
          },
          "colorway": [
           "#636efa",
           "#EF553B",
           "#00cc96",
           "#ab63fa",
           "#FFA15A",
           "#19d3f3",
           "#FF6692",
           "#B6E880",
           "#FF97FF",
           "#FECB52"
          ],
          "font": {
           "color": "#2a3f5f"
          },
          "geo": {
           "bgcolor": "white",
           "lakecolor": "white",
           "landcolor": "#E5ECF6",
           "showlakes": true,
           "showland": true,
           "subunitcolor": "white"
          },
          "hoverlabel": {
           "align": "left"
          },
          "hovermode": "closest",
          "mapbox": {
           "style": "light"
          },
          "paper_bgcolor": "white",
          "plot_bgcolor": "#E5ECF6",
          "polar": {
           "angularaxis": {
            "gridcolor": "white",
            "linecolor": "white",
            "ticks": ""
           },
           "bgcolor": "#E5ECF6",
           "radialaxis": {
            "gridcolor": "white",
            "linecolor": "white",
            "ticks": ""
           }
          },
          "scene": {
           "xaxis": {
            "backgroundcolor": "#E5ECF6",
            "gridcolor": "white",
            "gridwidth": 2,
            "linecolor": "white",
            "showbackground": true,
            "ticks": "",
            "zerolinecolor": "white"
           },
           "yaxis": {
            "backgroundcolor": "#E5ECF6",
            "gridcolor": "white",
            "gridwidth": 2,
            "linecolor": "white",
            "showbackground": true,
            "ticks": "",
            "zerolinecolor": "white"
           },
           "zaxis": {
            "backgroundcolor": "#E5ECF6",
            "gridcolor": "white",
            "gridwidth": 2,
            "linecolor": "white",
            "showbackground": true,
            "ticks": "",
            "zerolinecolor": "white"
           }
          },
          "shapedefaults": {
           "line": {
            "color": "#2a3f5f"
           }
          },
          "ternary": {
           "aaxis": {
            "gridcolor": "white",
            "linecolor": "white",
            "ticks": ""
           },
           "baxis": {
            "gridcolor": "white",
            "linecolor": "white",
            "ticks": ""
           },
           "bgcolor": "#E5ECF6",
           "caxis": {
            "gridcolor": "white",
            "linecolor": "white",
            "ticks": ""
           }
          },
          "title": {
           "x": 0.05
          },
          "xaxis": {
           "automargin": true,
           "gridcolor": "white",
           "linecolor": "white",
           "ticks": "",
           "title": {
            "standoff": 15
           },
           "zerolinecolor": "white",
           "zerolinewidth": 2
          },
          "yaxis": {
           "automargin": true,
           "gridcolor": "white",
           "linecolor": "white",
           "ticks": "",
           "title": {
            "standoff": 15
           },
           "zerolinecolor": "white",
           "zerolinewidth": 2
          }
         }
        },
        "title": {
         "text": "jumlah Kelulusan Prodi"
        },
        "xaxis": {
         "anchor": "y",
         "domain": [
          0,
          1
         ],
         "title": {
          "text": "nama_prodi"
         }
        },
        "yaxis": {
         "anchor": "x",
         "domain": [
          0,
          1
         ],
         "title": {
          "text": "jumlah Mahasiswa"
         }
        }
       }
      }
     },
     "metadata": {},
     "output_type": "display_data"
    }
   ],
   "source": [
    "fig = px.bar(angkatan19.groupby(['nama_prodi','status_lulus']).size().reset_index(name='jumlah'), \n",
    "             x='nama_prodi', \n",
    "             y='jumlah', \n",
    "             color='status_lulus', \n",
    "             barmode='group',\n",
    "             title='jumlah Kelulusan Prodi',\n",
    "             labels={'jumlah': 'jumlah Mahasiswa', 'Prodi': 'nama_prodi'},\n",
    "             text='jumlah'\n",
    "            )\n",
    "\n",
    "fig.update_layout(yaxis=dict(title='jumlah Mahasiswa'))  # Label sumbu Y\n",
    "\n",
    "fig.show()"
   ]
  },
  {
   "cell_type": "code",
   "execution_count": 138,
   "metadata": {},
   "outputs": [
    {
     "data": {
      "text/html": [
       "<div>\n",
       "<style scoped>\n",
       "    .dataframe tbody tr th:only-of-type {\n",
       "        vertical-align: middle;\n",
       "    }\n",
       "\n",
       "    .dataframe tbody tr th {\n",
       "        vertical-align: top;\n",
       "    }\n",
       "\n",
       "    .dataframe thead th {\n",
       "        text-align: right;\n",
       "    }\n",
       "</style>\n",
       "<table border=\"1\" class=\"dataframe\">\n",
       "  <thead>\n",
       "    <tr style=\"text-align: right;\">\n",
       "      <th></th>\n",
       "      <th>nim</th>\n",
       "      <th>nama</th>\n",
       "      <th>nama_prodi</th>\n",
       "      <th>jenjang</th>\n",
       "      <th>angkatan</th>\n",
       "      <th>nama_pembimbing</th>\n",
       "      <th>tanggal_sk_pembimbing</th>\n",
       "      <th>tanggal_pelaksanaan_ujian</th>\n",
       "      <th>status_lulus</th>\n",
       "      <th>tgl_lulus</th>\n",
       "    </tr>\n",
       "  </thead>\n",
       "  <tbody>\n",
       "  </tbody>\n",
       "</table>\n",
       "</div>"
      ],
      "text/plain": [
       "Empty DataFrame\n",
       "Columns: [nim, nama, nama_prodi, jenjang, angkatan, nama_pembimbing, tanggal_sk_pembimbing, tanggal_pelaksanaan_ujian, status_lulus, tgl_lulus]\n",
       "Index: []"
      ]
     },
     "execution_count": 138,
     "metadata": {},
     "output_type": "execute_result"
    }
   ],
   "source": [
    "# Menemukan baris dengan nilai null dan status_lulus bukan \"BELUM LULUS\"\n",
    "angkatan19[angkatan19.isnull().any(axis=1) & (angkatan19['status_lulus'] != \"BELUM LULUS\")]"
   ]
  },
  {
   "cell_type": "code",
   "execution_count": 139,
   "metadata": {},
   "outputs": [
    {
     "data": {
      "text/html": [
       "<div>\n",
       "<style scoped>\n",
       "    .dataframe tbody tr th:only-of-type {\n",
       "        vertical-align: middle;\n",
       "    }\n",
       "\n",
       "    .dataframe tbody tr th {\n",
       "        vertical-align: top;\n",
       "    }\n",
       "\n",
       "    .dataframe thead th {\n",
       "        text-align: right;\n",
       "    }\n",
       "</style>\n",
       "<table border=\"1\" class=\"dataframe\">\n",
       "  <thead>\n",
       "    <tr style=\"text-align: right;\">\n",
       "      <th></th>\n",
       "      <th>nama_prodi</th>\n",
       "      <th>jenjang</th>\n",
       "      <th>angkatan</th>\n",
       "      <th>BELUM LULUS</th>\n",
       "      <th>LULUS</th>\n",
       "    </tr>\n",
       "  </thead>\n",
       "  <tbody>\n",
       "    <tr>\n",
       "      <th>0</th>\n",
       "      <td>Biologi</td>\n",
       "      <td>S1</td>\n",
       "      <td>2019</td>\n",
       "      <td>16</td>\n",
       "      <td>56</td>\n",
       "    </tr>\n",
       "    <tr>\n",
       "      <th>1</th>\n",
       "      <td>Fisika</td>\n",
       "      <td>S1</td>\n",
       "      <td>2019</td>\n",
       "      <td>16</td>\n",
       "      <td>40</td>\n",
       "    </tr>\n",
       "    <tr>\n",
       "      <th>2</th>\n",
       "      <td>Ilmu Lingkungan</td>\n",
       "      <td>S1</td>\n",
       "      <td>2019</td>\n",
       "      <td>21</td>\n",
       "      <td>10</td>\n",
       "    </tr>\n",
       "    <tr>\n",
       "      <th>3</th>\n",
       "      <td>Kimia</td>\n",
       "      <td>S1</td>\n",
       "      <td>2019</td>\n",
       "      <td>36</td>\n",
       "      <td>13</td>\n",
       "    </tr>\n",
       "    <tr>\n",
       "      <th>4</th>\n",
       "      <td>Matematika</td>\n",
       "      <td>S1</td>\n",
       "      <td>2019</td>\n",
       "      <td>17</td>\n",
       "      <td>19</td>\n",
       "    </tr>\n",
       "    <tr>\n",
       "      <th>5</th>\n",
       "      <td>Pendidikan Biologi</td>\n",
       "      <td>S1</td>\n",
       "      <td>2019</td>\n",
       "      <td>53</td>\n",
       "      <td>43</td>\n",
       "    </tr>\n",
       "    <tr>\n",
       "      <th>6</th>\n",
       "      <td>Pendidikan Fisika</td>\n",
       "      <td>S1</td>\n",
       "      <td>2019</td>\n",
       "      <td>16</td>\n",
       "      <td>53</td>\n",
       "    </tr>\n",
       "    <tr>\n",
       "      <th>7</th>\n",
       "      <td>Pendidikan Ilmu Pengetahuan Alam</td>\n",
       "      <td>S1</td>\n",
       "      <td>2019</td>\n",
       "      <td>29</td>\n",
       "      <td>34</td>\n",
       "    </tr>\n",
       "    <tr>\n",
       "      <th>8</th>\n",
       "      <td>Pendidikan Kimia</td>\n",
       "      <td>S1</td>\n",
       "      <td>2019</td>\n",
       "      <td>20</td>\n",
       "      <td>67</td>\n",
       "    </tr>\n",
       "    <tr>\n",
       "      <th>9</th>\n",
       "      <td>Pendidikan Matematika</td>\n",
       "      <td>S1</td>\n",
       "      <td>2019</td>\n",
       "      <td>48</td>\n",
       "      <td>119</td>\n",
       "    </tr>\n",
       "    <tr>\n",
       "      <th>10</th>\n",
       "      <td>Sistem Informasi</td>\n",
       "      <td>S1</td>\n",
       "      <td>2019</td>\n",
       "      <td>23</td>\n",
       "      <td>13</td>\n",
       "    </tr>\n",
       "    <tr>\n",
       "      <th>11</th>\n",
       "      <td>Statistika Terapan dan Komputasi</td>\n",
       "      <td>D3</td>\n",
       "      <td>2019</td>\n",
       "      <td>6</td>\n",
       "      <td>16</td>\n",
       "    </tr>\n",
       "    <tr>\n",
       "      <th>12</th>\n",
       "      <td>Teknik Informatika</td>\n",
       "      <td>S1</td>\n",
       "      <td>2019</td>\n",
       "      <td>26</td>\n",
       "      <td>35</td>\n",
       "    </tr>\n",
       "  </tbody>\n",
       "</table>\n",
       "</div>"
      ],
      "text/plain": [
       "                          nama_prodi jenjang  angkatan  BELUM LULUS  LULUS\n",
       "0                            Biologi      S1      2019           16     56\n",
       "1                             Fisika      S1      2019           16     40\n",
       "2                    Ilmu Lingkungan      S1      2019           21     10\n",
       "3                              Kimia      S1      2019           36     13\n",
       "4                         Matematika      S1      2019           17     19\n",
       "5                 Pendidikan Biologi      S1      2019           53     43\n",
       "6                  Pendidikan Fisika      S1      2019           16     53\n",
       "7   Pendidikan Ilmu Pengetahuan Alam      S1      2019           29     34\n",
       "8                   Pendidikan Kimia      S1      2019           20     67\n",
       "9              Pendidikan Matematika      S1      2019           48    119\n",
       "10                  Sistem Informasi      S1      2019           23     13\n",
       "11  Statistika Terapan dan Komputasi      D3      2019            6     16\n",
       "12                Teknik Informatika      S1      2019           26     35"
      ]
     },
     "execution_count": 139,
     "metadata": {},
     "output_type": "execute_result"
    }
   ],
   "source": [
    "grouped_data = angkatan19.groupby(['nama_prodi', 'jenjang', 'angkatan', 'status_lulus']).size().reset_index(name='jumlah')\n",
    "pivot_table = grouped_data.pivot(index=['nama_prodi', 'jenjang', 'angkatan'], columns='status_lulus', values='jumlah').reset_index()\n",
    "pivot_table = pivot_table.rename_axis(None, axis=1)\n",
    "pivot_table = pivot_table.rename(columns={'Sudah Lulus': 'sudah_lulus', 'Belum Lulus': 'belum_lulus'})\n",
    "pivot_table"
   ]
  },
  {
   "cell_type": "code",
   "execution_count": null,
   "metadata": {},
   "outputs": [],
   "source": [
    "pivot_table['persentase'] = pivot_table['LULUS'] / (pivot_table['LULUS'] + pivot_table['BELUM LULUS']) * 100\n",
    "pivot_table['persentase'] = pivot_table['persentase'].round(2)\n"
   ]
  }
 ],
 "metadata": {
  "kernelspec": {
   "display_name": "venv",
   "language": "python",
   "name": "python3"
  },
  "language_info": {
   "codemirror_mode": {
    "name": "ipython",
    "version": 3
   },
   "file_extension": ".py",
   "mimetype": "text/x-python",
   "name": "python",
   "nbconvert_exporter": "python",
   "pygments_lexer": "ipython3",
   "version": "3.9.2"
  }
 },
 "nbformat": 4,
 "nbformat_minor": 2
}
